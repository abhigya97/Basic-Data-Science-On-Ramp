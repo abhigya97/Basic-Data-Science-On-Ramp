{
 "cells": [
  {
   "cell_type": "markdown",
   "metadata": {},
   "source": [
    "# In this assignment we will use the same data used in the previous assignment.\n",
    "\n",
    "## - Create a Categorical variable based on Team column and show how many values per each Team exists.\n",
    "\n",
    "## - Create a new variable called teams_salaries and group only the two columns of Salary and Team of the csv_df based on the Team values. Then using the new teams_salaries values, replace each row's salary by its Team average salary. "
   ]
  },
  {
   "cell_type": "code",
   "execution_count": 1,
   "metadata": {},
   "outputs": [
    {
     "data": {
      "text/html": [
       "<div>\n",
       "<style scoped>\n",
       "    .dataframe tbody tr th:only-of-type {\n",
       "        vertical-align: middle;\n",
       "    }\n",
       "\n",
       "    .dataframe tbody tr th {\n",
       "        vertical-align: top;\n",
       "    }\n",
       "\n",
       "    .dataframe thead th {\n",
       "        text-align: right;\n",
       "    }\n",
       "</style>\n",
       "<table border=\"1\" class=\"dataframe\">\n",
       "  <thead>\n",
       "    <tr style=\"text-align: right;\">\n",
       "      <th></th>\n",
       "      <th>First Name</th>\n",
       "      <th>Gender</th>\n",
       "      <th>Start Date</th>\n",
       "      <th>Last Login Time</th>\n",
       "      <th>Salary</th>\n",
       "      <th>Bonus %</th>\n",
       "      <th>Senior Management</th>\n",
       "      <th>Team</th>\n",
       "    </tr>\n",
       "  </thead>\n",
       "  <tbody>\n",
       "    <tr>\n",
       "      <th>0</th>\n",
       "      <td>Douglas</td>\n",
       "      <td>Male</td>\n",
       "      <td>8/6/1993</td>\n",
       "      <td>12:42 PM</td>\n",
       "      <td>97308</td>\n",
       "      <td>6.945</td>\n",
       "      <td>True</td>\n",
       "      <td>Marketing</td>\n",
       "    </tr>\n",
       "    <tr>\n",
       "      <th>1</th>\n",
       "      <td>Thomas</td>\n",
       "      <td>Male</td>\n",
       "      <td>3/31/1996</td>\n",
       "      <td>6:53 AM</td>\n",
       "      <td>61933</td>\n",
       "      <td>4.170</td>\n",
       "      <td>True</td>\n",
       "      <td>NaN</td>\n",
       "    </tr>\n",
       "    <tr>\n",
       "      <th>2</th>\n",
       "      <td>Maria</td>\n",
       "      <td>Female</td>\n",
       "      <td>4/23/1993</td>\n",
       "      <td>11:17 AM</td>\n",
       "      <td>130590</td>\n",
       "      <td>11.858</td>\n",
       "      <td>False</td>\n",
       "      <td>Finance</td>\n",
       "    </tr>\n",
       "    <tr>\n",
       "      <th>3</th>\n",
       "      <td>Jerry</td>\n",
       "      <td>Male</td>\n",
       "      <td>3/4/2005</td>\n",
       "      <td>1:00 PM</td>\n",
       "      <td>138705</td>\n",
       "      <td>9.340</td>\n",
       "      <td>True</td>\n",
       "      <td>Finance</td>\n",
       "    </tr>\n",
       "    <tr>\n",
       "      <th>4</th>\n",
       "      <td>Larry</td>\n",
       "      <td>Male</td>\n",
       "      <td>1/24/1998</td>\n",
       "      <td>4:47 PM</td>\n",
       "      <td>101004</td>\n",
       "      <td>1.389</td>\n",
       "      <td>True</td>\n",
       "      <td>Client Services</td>\n",
       "    </tr>\n",
       "  </tbody>\n",
       "</table>\n",
       "</div>"
      ],
      "text/plain": [
       "  First Name  Gender Start Date Last Login Time  Salary  Bonus %  \\\n",
       "0    Douglas    Male   8/6/1993        12:42 PM   97308    6.945   \n",
       "1     Thomas    Male  3/31/1996         6:53 AM   61933    4.170   \n",
       "2      Maria  Female  4/23/1993        11:17 AM  130590   11.858   \n",
       "3      Jerry    Male   3/4/2005         1:00 PM  138705    9.340   \n",
       "4      Larry    Male  1/24/1998         4:47 PM  101004    1.389   \n",
       "\n",
       "  Senior Management             Team  \n",
       "0              True        Marketing  \n",
       "1              True              NaN  \n",
       "2             False          Finance  \n",
       "3              True          Finance  \n",
       "4              True  Client Services  "
      ]
     },
     "execution_count": 1,
     "metadata": {},
     "output_type": "execute_result"
    }
   ],
   "source": [
    "import pandas as pd\n",
    "\n",
    "df = pd.read_csv('employees.csv')\n",
    "df.head()"
   ]
  },
  {
   "cell_type": "code",
   "execution_count": 2,
   "metadata": {},
   "outputs": [],
   "source": [
    "#Replacing the Nan values with string 'NaN'\n",
    "df.Team.fillna(value = 'NaN', inplace = True)"
   ]
  },
  {
   "cell_type": "code",
   "execution_count": 3,
   "metadata": {},
   "outputs": [
    {
     "name": "stdout",
     "output_type": "stream",
     "text": [
      "Values per each team\n"
     ]
    },
    {
     "data": {
      "text/plain": [
       "Client Services         106\n",
       "Finance                 102\n",
       "Business Development    101\n",
       "Marketing                98\n",
       "Product                  95\n",
       "Sales                    94\n",
       "Engineering              92\n",
       "Human Resources          91\n",
       "Distribution             90\n",
       "Legal                    88\n",
       "NaN                      43\n",
       "Name: Team, dtype: int64"
      ]
     },
     "execution_count": 3,
     "metadata": {},
     "output_type": "execute_result"
    }
   ],
   "source": [
    "Team_type = df['Team'].astype('category')\n",
    "print(\"Values per each team\")\n",
    "Team_type.value_counts()"
   ]
  },
  {
   "cell_type": "code",
   "execution_count": 4,
   "metadata": {},
   "outputs": [],
   "source": [
    "teams_salaries = df.groupby('Team')['Salary']"
   ]
  },
  {
   "cell_type": "code",
   "execution_count": 5,
   "metadata": {},
   "outputs": [
    {
     "name": "stdout",
     "output_type": "stream",
     "text": [
      "After replacing salary with average team salary\n",
      "----------------------------------------------------------------------\n",
      "    First Name  Gender  Start Date Last Login Time        Salary  Bonus %  \\\n",
      "0      Douglas    Male    8/6/1993        12:42 PM  90435.591837    6.945   \n",
      "1       Thomas    Male   3/31/1996         6:53 AM  90763.139535    4.170   \n",
      "2        Maria  Female   4/23/1993        11:17 AM  92219.480392   11.858   \n",
      "3        Jerry    Male    3/4/2005         1:00 PM  92219.480392    9.340   \n",
      "4        Larry    Male   1/24/1998         4:47 PM  88224.424528    1.389   \n",
      "..         ...     ...         ...             ...           ...      ...   \n",
      "995      Henry     NaN  11/23/2014         6:09 AM  88500.466667   16.655   \n",
      "996    Phillip    Male   1/31/1984         6:30 AM  92219.480392   19.675   \n",
      "997    Russell    Male   5/20/2013        12:39 PM  88665.505263    1.421   \n",
      "998      Larry    Male   4/20/2013         4:45 PM  91866.316832   11.985   \n",
      "999     Albert    Male   5/15/2012         6:24 PM  92173.436170   10.169   \n",
      "\n",
      "    Senior Management                  Team  \n",
      "0                True             Marketing  \n",
      "1                True                   NaN  \n",
      "2               False               Finance  \n",
      "3                True               Finance  \n",
      "4                True       Client Services  \n",
      "..                ...                   ...  \n",
      "995             False          Distribution  \n",
      "996             False               Finance  \n",
      "997             False               Product  \n",
      "998             False  Business Development  \n",
      "999              True                 Sales  \n",
      "\n",
      "[1000 rows x 8 columns]\n"
     ]
    }
   ],
   "source": [
    "df['Salary'] = teams_salaries.transform('mean')\n",
    "print(\"After replacing salary with average team salary\")\n",
    "print(\"----------------------------------------------------------------------\")\n",
    "print(df)"
   ]
  },
  {
   "cell_type": "markdown",
   "metadata": {},
   "source": [
    "## - Plot the team salaries in a single plot and using the bar plot type where X-Axis is the Team and Y-Axis is the average salary. Change the X-labels to match the team name.   "
   ]
  },
  {
   "cell_type": "code",
   "execution_count": 6,
   "metadata": {},
   "outputs": [
    {
     "data": {
      "text/plain": [
       "<AxesSubplot:xlabel='Team'>"
      ]
     },
     "execution_count": 6,
     "metadata": {},
     "output_type": "execute_result"
    },
    {
     "data": {
      "image/png": "[encoded data removed]",
      "text/plain": [
       "<Figure size 432x288 with 1 Axes>"
      ]
     },
     "metadata": {
      "needs_background": "light"
     },
     "output_type": "display_data"
    }
   ],
   "source": [
    "teams_salaries.mean().plot.bar(color = 'g')\n",
    "#If doesnt show at first, run this cell again!"
   ]
  },
  {
   "cell_type": "markdown",
   "metadata": {},
   "source": [
    "## - Use to_datetime() function of pandas to convert the Start Date column to a Series of datetime objects. \n",
    "\n",
    "## - Use the result of previous task to create a Time Series of Bonuses (Let's assume the whole bonus column belongs to a single person and is changing through time). \n",
    "\n",
    "## - Plot the time series where X-Axis is the time and Y-Axis is the bonus value and use Scatter plot for better presentation. Change the color and marker from default to your desired values. \n",
    "\n",
    "## - After creating the new Time Series object, print the bonus values before January 1st of 2008.  \n",
    "\n",
    "## - Downsample the Time Series by intervals of 3 months and based on averaging the bonuses. "
   ]
  },
  {
   "cell_type": "code",
   "execution_count": 7,
   "metadata": {},
   "outputs": [
    {
     "name": "stdout",
     "output_type": "stream",
     "text": [
      "954   1980-01-19\n",
      "49    1980-01-24\n",
      "881   1980-01-28\n",
      "272   1980-02-20\n",
      "549   1980-02-25\n",
      "         ...    \n",
      "239   2016-05-12\n",
      "444   2016-05-24\n",
      "15    2016-06-05\n",
      "98    2016-06-16\n",
      "451   2016-07-15\n",
      "Name: Start Date, Length: 1000, dtype: datetime64[ns]\n"
     ]
    }
   ],
   "source": [
    "#Convert start data column to series of datetime object\n",
    "df['Start Date'] = pd.to_datetime(df[\"Start Date\"])\n",
    "#Sorting series by date\n",
    "s = df.sort_values(by = 'Start Date')[\"Start Date\"]\n",
    "print(s)"
   ]
  },
  {
   "cell_type": "code",
   "execution_count": 8,
   "metadata": {},
   "outputs": [
    {
     "name": "stdout",
     "output_type": "stream",
     "text": [
      "954     1.148\n",
      "49      3.055\n",
      "881     6.318\n",
      "272    18.225\n",
      "549     3.186\n",
      "        ...  \n",
      "239    17.612\n",
      "444     7.008\n",
      "15      1.256\n",
      "98     16.961\n",
      "451    19.490\n",
      "Name: Bonus %, Length: 1000, dtype: float64\n"
     ]
    }
   ],
   "source": [
    "#sorting bonuses by date\n",
    "b = df.sort_values(by = 'Start Date')['Bonus %']\n",
    "print(b)"
   ]
  },
  {
   "cell_type": "code",
   "execution_count": 9,
   "metadata": {},
   "outputs": [
    {
     "name": "stdout",
     "output_type": "stream",
     "text": [
      "Start Date\n",
      "1980-01-19     1.148\n",
      "1980-01-24     3.055\n",
      "1980-01-28     6.318\n",
      "1980-02-20    18.225\n",
      "1980-02-25     3.186\n",
      "               ...  \n",
      "2016-05-12    17.612\n",
      "2016-05-24     7.008\n",
      "2016-06-05     1.256\n",
      "2016-06-16    16.961\n",
      "2016-07-15    19.490\n",
      "Length: 1000, dtype: float64\n"
     ]
    }
   ],
   "source": [
    "#Creating sorted time series for bonus\n",
    "time_series = pd.Series(list(b), index = s)\n",
    "print(time_series)"
   ]
  },
  {
   "cell_type": "code",
   "execution_count": 10,
   "metadata": {},
   "outputs": [
    {
     "data": {
      "text/plain": [
       "<AxesSubplot:title={'center':'Bonus % over time'}, xlabel='Start Date'>"
      ]
     },
     "execution_count": 10,
     "metadata": {},
     "output_type": "execute_result"
    },
    {
     "data": {
      "image/png": "[encoded data removed]",
      "text/plain": [
       "<Figure size 432x288 with 1 Axes>"
      ]
     },
     "metadata": {
      "needs_background": "light"
     },
     "output_type": "display_data"
    }
   ],
   "source": [
    "#Setting marker as upward triangle and color as purple. \n",
    "time_series.plot(style='^', color = 'purple', title = 'Bonus % over time')"
   ]
  },
  {
   "cell_type": "code",
   "execution_count": 11,
   "metadata": {},
   "outputs": [
    {
     "name": "stdout",
     "output_type": "stream",
     "text": [
      "Bonus values before January 1st 2008\n"
     ]
    },
    {
     "data": {
      "text/plain": [
       "Start Date\n",
       "1980-01-19     1.148\n",
       "1980-01-24     3.055\n",
       "1980-01-28     6.318\n",
       "1980-02-20    18.225\n",
       "1980-02-25     3.186\n",
       "               ...  \n",
       "2007-09-29    17.290\n",
       "2007-09-30    15.843\n",
       "2007-10-02     3.694\n",
       "2007-10-08    11.934\n",
       "2007-11-23     7.461\n",
       "Length: 753, dtype: float64"
      ]
     },
     "execution_count": 11,
     "metadata": {},
     "output_type": "execute_result"
    }
   ],
   "source": [
    "print(\"Bonus values before January 1st 2008\")\n",
    "time_series.truncate(after='2008-01-01')"
   ]
  },
  {
   "cell_type": "code",
   "execution_count": 12,
   "metadata": {},
   "outputs": [
    {
     "name": "stdout",
     "output_type": "stream",
     "text": [
      "Downsampling the Time Series by intervals of 3 months and based on averaging the bonuses.\n"
     ]
    },
    {
     "data": {
      "text/plain": [
       "Start Date\n",
       "1980-01-31     3.507000\n",
       "1980-04-30    10.426857\n",
       "1980-07-31    10.192750\n",
       "1980-10-31    12.474500\n",
       "1981-01-31    11.314000\n",
       "                ...    \n",
       "2015-07-31    10.327500\n",
       "2015-10-31    10.002500\n",
       "2016-01-31     9.347143\n",
       "2016-04-30     9.394667\n",
       "2016-07-31    13.511167\n",
       "Freq: 3M, Length: 147, dtype: float64"
      ]
     },
     "execution_count": 12,
     "metadata": {},
     "output_type": "execute_result"
    }
   ],
   "source": [
    "print(\"Downsampling the Time Series by intervals of 3 months and based on averaging the bonuses.\")\n",
    "time_series.resample('3M').mean()"
   ]
  }
 ],
 "metadata": {
  "kernelspec": {
   "display_name": "Python 3",
   "language": "python",
   "name": "python3"
  },
  "language_info": {
   "codemirror_mode": {
    "name": "ipython",
    "version": 3
   },
   "file_extension": ".py",
   "mimetype": "text/x-python",
   "name": "python",
   "nbconvert_exporter": "python",
   "pygments_lexer": "ipython3",
   "version": "3.8.5"
  }
 },
 "nbformat": 4,
 "nbformat_minor": 2
}
