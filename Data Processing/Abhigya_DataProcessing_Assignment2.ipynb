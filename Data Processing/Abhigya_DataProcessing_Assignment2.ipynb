{
 "cells": [
  {
   "cell_type": "markdown",
   "metadata": {},
   "source": [
    "## Create a list and 1 dimensional ndarray with identical elements and show that slicing in both is the same. \n",
    "\n",
    "## Choose 3 TV Series and create 2 ndarrays as follows: \n",
    "\n",
    "1. The first ndarray called artists contains name of 12 actors/actresses from those three TV series.\n",
    "2. The second ndarray called shows contains name of the TV series that each actor/actress played in.\n",
    "3. Calculate the boolean indexing for one of the TV series in the second ndarray.\n",
    "4. Using the boolean indexing from previous step, select the actors/actresses that played in that TV show and put it in a new ndarray called selected_show. \n",
    "5. Save all of the three ndarrays from the previous steps to disk \n",
    "6. Reload the saved file and load the three ndarrays to three new variables called artists_new, shows_new and selected_show_new."
   ]
  },
  {
   "cell_type": "code",
   "execution_count": 1,
   "metadata": {},
   "outputs": [],
   "source": [
    "import numpy as np"
   ]
  },
  {
   "cell_type": "code",
   "execution_count": 2,
   "metadata": {},
   "outputs": [
    {
     "name": "stdout",
     "output_type": "stream",
     "text": [
      "Array is of type:  <class 'numpy.ndarray'>\n",
      "List is of type:  <class 'list'>\n"
     ]
    }
   ],
   "source": [
    "List = [1, 4, 8, 9, 7, 3, 2]\n",
    "Array = np.array([1, 4, 8, 9, 7, 3, 2])\n",
    "\n",
    "print(\"Array is of type: \", type(Array))\n",
    "print(\"List is of type: \", type(List))"
   ]
  },
  {
   "cell_type": "code",
   "execution_count": 3,
   "metadata": {},
   "outputs": [
    {
     "name": "stdout",
     "output_type": "stream",
     "text": [
      "Sliced Array:  [8 9 7]\n",
      "Sliced List:  [8, 9, 7]\n"
     ]
    }
   ],
   "source": [
    "#Slicing the array\n",
    "Arr = Array[2:5]\n",
    "print(\"Sliced Array: \", Arr)\n",
    "\n",
    "Li = List[2:5]\n",
    "print(\"Sliced List: \", Li)\n",
    "\n",
    "#They both work in the same way!"
   ]
  },
  {
   "cell_type": "code",
   "execution_count": 4,
   "metadata": {},
   "outputs": [],
   "source": [
    "#3 Tvseries chosen are: New Girl, One day at a time, and Unbreakable Kimmy Schmidt\n",
    "\n",
    "artists = np.array(['Zooey Claire Deschanel', 'Justina Machado', 'Ellie Kemper', 'Hannah Simone',\\\n",
    "           'Jane Krakowski', 'Carol Kane', 'Isabella Gomez', 'Rita Moreno',\\\n",
    "           'Jake Johnson', 'Todd Grinnell', 'Tituss Burgess', 'Max Greenfield'])\n",
    "\n",
    "shows = np.array(['New Girl', 'One Day at a Time', 'Unbreakable Kimmy Schmidt', 'New Girl',\\\n",
    "         'Unbreakable Kimmy Schmidt', 'Unbreakable Kimmy Schmidt', 'One Day at a Time', 'One Day at a Time',\\\n",
    "         'New Girl', 'One Day at a Time', 'Unbreakable Kimmy Schmidt', 'New Girl'])"
   ]
  },
  {
   "cell_type": "code",
   "execution_count": 5,
   "metadata": {},
   "outputs": [
    {
     "name": "stdout",
     "output_type": "stream",
     "text": [
      "Boolean indexing for the show New Girl: \n",
      "\n",
      " [ True False False  True False False False False  True False False  True]\n"
     ]
    }
   ],
   "source": [
    "#Boolean indexing for show \"New Girl\" \n",
    "\n",
    "print(\"Boolean indexing for the show New Girl: \\n\\n\", shows == 'New Girl')"
   ]
  },
  {
   "cell_type": "code",
   "execution_count": 6,
   "metadata": {},
   "outputs": [
    {
     "name": "stdout",
     "output_type": "stream",
     "text": [
      "Name of the actors who play in the show New Girl: \n",
      "\n",
      " ['Zooey Claire Deschanel' 'Hannah Simone' 'Jake Johnson' 'Max Greenfield']\n"
     ]
    }
   ],
   "source": [
    "#Getting the artists that play a part in the show New Girl\n",
    "\n",
    "selected_show = artists[shows == 'New Girl']\n",
    "\n",
    "print(\"Name of the actors who play in the show New Girl: \\n\\n\", selected_show)"
   ]
  },
  {
   "cell_type": "code",
   "execution_count": 7,
   "metadata": {},
   "outputs": [],
   "source": [
    "#Storing the three arrays to disk\n",
    "\n",
    "np.savez('TVShows_arrays.npz', arr1 = artists , arr2 = shows, arr3 = selected_show)"
   ]
  },
  {
   "cell_type": "code",
   "execution_count": 8,
   "metadata": {},
   "outputs": [],
   "source": [
    "#Loading the arrays from disk\n",
    "Load = np.load('TVShows_arrays.npz')\n",
    "\n",
    "artists_new = Load['arr1']\n",
    "shows_new = Load['arr2']\n",
    "selected_show_new = Load['arr3']"
   ]
  },
  {
   "cell_type": "code",
   "execution_count": 9,
   "metadata": {},
   "outputs": [
    {
     "name": "stdout",
     "output_type": "stream",
     "text": [
      "Original artists array: \n",
      " ['Zooey Claire Deschanel' 'Justina Machado' 'Ellie Kemper' 'Hannah Simone'\n",
      " 'Jane Krakowski' 'Carol Kane' 'Isabella Gomez' 'Rita Moreno'\n",
      " 'Jake Johnson' 'Todd Grinnell' 'Tituss Burgess' 'Max Greenfield']\n",
      "\n",
      "Loaded artists array: \n",
      " ['Zooey Claire Deschanel' 'Justina Machado' 'Ellie Kemper' 'Hannah Simone'\n",
      " 'Jane Krakowski' 'Carol Kane' 'Isabella Gomez' 'Rita Moreno'\n",
      " 'Jake Johnson' 'Todd Grinnell' 'Tituss Burgess' 'Max Greenfield']\n",
      "\n",
      "Original shows array: \n",
      " ['New Girl' 'One Day at a Time' 'Unbreakable Kimmy Schmidt' 'New Girl'\n",
      " 'Unbreakable Kimmy Schmidt' 'Unbreakable Kimmy Schmidt'\n",
      " 'One Day at a Time' 'One Day at a Time' 'New Girl' 'One Day at a Time'\n",
      " 'Unbreakable Kimmy Schmidt' 'New Girl']\n",
      "\n",
      "Loaded shows array: \n",
      " ['New Girl' 'One Day at a Time' 'Unbreakable Kimmy Schmidt' 'New Girl'\n",
      " 'Unbreakable Kimmy Schmidt' 'Unbreakable Kimmy Schmidt'\n",
      " 'One Day at a Time' 'One Day at a Time' 'New Girl' 'One Day at a Time'\n",
      " 'Unbreakable Kimmy Schmidt' 'New Girl']\n",
      "\n",
      "Original selected_show array: \n",
      " ['Zooey Claire Deschanel' 'Hannah Simone' 'Jake Johnson' 'Max Greenfield']\n",
      "\n",
      "Loaded selected_show array: \n",
      " ['Zooey Claire Deschanel' 'Hannah Simone' 'Jake Johnson' 'Max Greenfield']\n"
     ]
    }
   ],
   "source": [
    "print(\"Original artists array: \\n\", artists)\n",
    "print(\"\\nLoaded artists array: \\n\", artists_new)\n",
    "\n",
    "print(\"\\nOriginal shows array: \\n\", shows)\n",
    "print(\"\\nLoaded shows array: \\n\", shows_new)\n",
    "\n",
    "print(\"\\nOriginal selected_show array: \\n\", selected_show)\n",
    "print(\"\\nLoaded selected_show array: \\n\", selected_show_new)"
   ]
  },
  {
   "cell_type": "markdown",
   "metadata": {},
   "source": [
    "# Pandas Basics:\n",
    "## Create a Series object as follows:\n",
    "\n",
    "1. The Series object contains at least 7 car models with the index being car brands like 'BMW' , e.g. data being X3 and the index is BMW.\n",
    "2. Use boolean filtering to filter cars containing the letter 'a'\n",
    "3. Rename the index column to \"manufacturer\"\n",
    "\n",
    "## Create a DataFrame as follows:\n",
    "\n",
    "1. The DataFrame columns are \"sport\" (string), \"number_of_players\" (integer), \"ball_game\" (boolean) and  \"popularity\" (one of the values for 'high', 'medium' or 'low'), and the DataFrame contains at least 7 rows. \n",
    "2. Add a new column to the DataFrame called \"Best Player\" and show that all the values for the column are NaN after adding the column \n",
    "3. Set all of the values for \"Best Player\" column to \"TBD\" short for to be determined. \n",
    "4. Use slicing properly to extract \"number_of_players\" and \"sport\" for 3 rows.\n",
    "5. Write a function called \"average_calculator\" and use the apply() mtehod to average the number_of_players row. (do not use the built-in mean functions for this part)\n",
    "6. Try to sort the DataFrame by sport names. \n",
    "7. Find both the index and name of the sport with maximum amount of players. \n",
    "8. Save the DataFrame to disk as a CSV file. \n",
    "9. Reload the saved CSV in a new variable. "
   ]
  },
  {
   "cell_type": "code",
   "execution_count": 10,
   "metadata": {},
   "outputs": [],
   "source": [
    "import pandas as pd"
   ]
  },
  {
   "cell_type": "code",
   "execution_count": 11,
   "metadata": {},
   "outputs": [
    {
     "name": "stdout",
     "output_type": "stream",
     "text": [
      "Porsche       Taycan 4S\n",
      "Bentley        Bentayga\n",
      "Chevrolet       Equinox\n",
      "Ford             Fusion\n",
      "Hyundai         Elantra\n",
      "Mazda             CX-30\n",
      "Volkswagen         Golf\n",
      "Honda             Civic\n",
      "dtype: object\n"
     ]
    }
   ],
   "source": [
    "Cars = pd.Series(['Taycan 4S', 'Bentayga', 'Equinox', 'Fusion', 'Elantra', 'CX-30', 'Golf', 'Civic'],\\\n",
    "                 index = ['Porsche','Bentley', 'Chevrolet', 'Ford', 'Hyundai', 'Mazda', 'Volkswagen', 'Honda'])\n",
    "\n",
    "print(Cars)"
   ]
  },
  {
   "cell_type": "code",
   "execution_count": 12,
   "metadata": {},
   "outputs": [
    {
     "name": "stdout",
     "output_type": "stream",
     "text": [
      "Printing the Boolean filtering for Cars with character 'a' in them. \n",
      "\n"
     ]
    },
    {
     "data": {
      "text/plain": [
       "Porsche        True\n",
       "Bentley        True\n",
       "Chevrolet     False\n",
       "Ford          False\n",
       "Hyundai        True\n",
       "Mazda         False\n",
       "Volkswagen    False\n",
       "Honda         False\n",
       "dtype: bool"
      ]
     },
     "execution_count": 12,
     "metadata": {},
     "output_type": "execute_result"
    }
   ],
   "source": [
    "#Help taken from: https://pandas.pydata.org/pandas-docs/stable/reference/api/pandas.Series.str.contains.html\n",
    "\n",
    "print(\"Printing the Boolean filtering for Cars with character 'a' in them. \\n\")\n",
    "\n",
    "Cars.str.contains('a', regex=False)"
   ]
  },
  {
   "cell_type": "code",
   "execution_count": 13,
   "metadata": {},
   "outputs": [
    {
     "name": "stdout",
     "output_type": "stream",
     "text": [
      "Manufacturer\n",
      "Porsche       Taycan 4S\n",
      "Bentley        Bentayga\n",
      "Chevrolet       Equinox\n",
      "Ford             Fusion\n",
      "Hyundai         Elantra\n",
      "Mazda             CX-30\n",
      "Volkswagen         Golf\n",
      "Honda             Civic\n",
      "dtype: object\n"
     ]
    }
   ],
   "source": [
    "#Renaming the index column\n",
    "Cars.index.name = 'Manufacturer'\n",
    "print(Cars)"
   ]
  },
  {
   "cell_type": "code",
   "execution_count": 14,
   "metadata": {},
   "outputs": [],
   "source": [
    "#Pandas dataframes are very similar to dictionaries\n",
    "#First define the dictionary\n",
    "\n",
    "Data = {\"Sport\" : ['Badminton', 'Basketball', 'Cricket', 'Football', 'Hockey', 'Lawn Tennis', 'Chess', 'Table Tennis'],\\\n",
    "      \"Number_of_players\" : [2, 5, 11, 11, 11, 2, 2, 3],\\\n",
    "      \"Ball_game\" : [False, True, True, True, True, True, False, True],\\\n",
    "      \"Popularity\" : ['high', 'high', 'high', 'high', 'medium', 'medium', 'medium', 'low']}"
   ]
  },
  {
   "cell_type": "code",
   "execution_count": 15,
   "metadata": {},
   "outputs": [
    {
     "name": "stdout",
     "output_type": "stream",
     "text": [
      "          Sport  Number_of_players  Ball_game Popularity\n",
      "0     Badminton                  2      False       high\n",
      "1    Basketball                  5       True       high\n",
      "2       Cricket                 11       True       high\n",
      "3      Football                 11       True       high\n",
      "4        Hockey                 11       True     medium\n",
      "5   Lawn Tennis                  2       True     medium\n",
      "6         Chess                  2      False     medium\n",
      "7  Table Tennis                  3       True        low\n"
     ]
    }
   ],
   "source": [
    "df = pd.DataFrame(Data, columns = ['Sport', 'Number_of_players', 'Ball_game', 'Popularity'])\n",
    "print(df)"
   ]
  },
  {
   "cell_type": "code",
   "execution_count": 16,
   "metadata": {},
   "outputs": [],
   "source": [
    "#Adding new column to the dataframe\n",
    "new_df = pd.DataFrame(df, columns = ['Sport', 'Number_of_players', 'Ball_game', 'Popularity', 'Best Player'])"
   ]
  },
  {
   "cell_type": "code",
   "execution_count": 17,
   "metadata": {},
   "outputs": [
    {
     "name": "stdout",
     "output_type": "stream",
     "text": [
      "          Sport  Number_of_players  Ball_game Popularity  Best Player\n",
      "0     Badminton                  2      False       high          NaN\n",
      "1    Basketball                  5       True       high          NaN\n",
      "2       Cricket                 11       True       high          NaN\n",
      "3      Football                 11       True       high          NaN\n",
      "4        Hockey                 11       True     medium          NaN\n",
      "5   Lawn Tennis                  2       True     medium          NaN\n",
      "6         Chess                  2      False     medium          NaN\n",
      "7  Table Tennis                  3       True        low          NaN\n"
     ]
    }
   ],
   "source": [
    "#Showing that the values of new column are by default Nan\n",
    "print(new_df)"
   ]
  },
  {
   "cell_type": "code",
   "execution_count": 18,
   "metadata": {},
   "outputs": [
    {
     "name": "stdout",
     "output_type": "stream",
     "text": [
      "          Sport  Number_of_players  Ball_game Popularity Best Player\n",
      "0     Badminton                  2      False       high         TBD\n",
      "1    Basketball                  5       True       high         TBD\n",
      "2       Cricket                 11       True       high         TBD\n",
      "3      Football                 11       True       high         TBD\n",
      "4        Hockey                 11       True     medium         TBD\n",
      "5   Lawn Tennis                  2       True     medium         TBD\n",
      "6         Chess                  2      False     medium         TBD\n",
      "7  Table Tennis                  3       True        low         TBD\n"
     ]
    }
   ],
   "source": [
    "#Setting all the best players values to To be Determined(TBD)\n",
    "new_df['Best Player'] = 'TBD'\n",
    "print(new_df)"
   ]
  },
  {
   "cell_type": "code",
   "execution_count": 19,
   "metadata": {},
   "outputs": [
    {
     "name": "stdout",
     "output_type": "stream",
     "text": [
      "Printing first three rows of Sport columns and Number of Players column \n",
      "\n",
      "        Sport  Number_of_players\n",
      "0   Badminton                  2\n",
      "1  Basketball                  5\n",
      "2     Cricket                 11\n"
     ]
    }
   ],
   "source": [
    "print(\"Printing first three rows of Sport columns and Number of Players column \\n\")\n",
    "print(new_df[['Sport','Number_of_players']][:3])"
   ]
  },
  {
   "cell_type": "code",
   "execution_count": 20,
   "metadata": {},
   "outputs": [],
   "source": [
    "#Defining a function to calculate average \n",
    "def average_calculator(a):\n",
    "    return sum(a) / len(a)"
   ]
  },
  {
   "cell_type": "code",
   "execution_count": 21,
   "metadata": {},
   "outputs": [
    {
     "name": "stdout",
     "output_type": "stream",
     "text": [
      "Printing the average number of players \n",
      "\n"
     ]
    },
    {
     "data": {
      "text/plain": [
       "Number_of_players    5.875\n",
       "dtype: float64"
      ]
     },
     "execution_count": 21,
     "metadata": {},
     "output_type": "execute_result"
    }
   ],
   "source": [
    "#Finding the average number of players\n",
    "print(\"Printing the average number of players \\n\")\n",
    "new_df[['Number_of_players']].apply(average_calculator, axis = 'rows')"
   ]
  },
  {
   "cell_type": "code",
   "execution_count": 22,
   "metadata": {},
   "outputs": [
    {
     "name": "stdout",
     "output_type": "stream",
     "text": [
      "Printing the sorted dataframe by Sport value \n",
      "\n",
      "          Sport  Number_of_players  Ball_game Popularity Best Player\n",
      "0     Badminton                  2      False       high         TBD\n",
      "1    Basketball                  5       True       high         TBD\n",
      "6         Chess                  2      False     medium         TBD\n",
      "2       Cricket                 11       True       high         TBD\n",
      "3      Football                 11       True       high         TBD\n",
      "4        Hockey                 11       True     medium         TBD\n",
      "5   Lawn Tennis                  2       True     medium         TBD\n",
      "7  Table Tennis                  3       True        low         TBD\n"
     ]
    }
   ],
   "source": [
    "#Sorting the dataframe by sport names\n",
    "print(\"Printing the sorted dataframe by Sport value \\n\")\n",
    "sort = new_df.sort_values(by = 'Sport')\n",
    "print(sort)"
   ]
  },
  {
   "cell_type": "code",
   "execution_count": 23,
   "metadata": {},
   "outputs": [
    {
     "name": "stdout",
     "output_type": "stream",
     "text": [
      "Printing the dataframe row(s) with maximum number of players value \n",
      "\n",
      "      Sport  Number_of_players  Ball_game Popularity Best Player\n",
      "2   Cricket                 11       True       high         TBD\n",
      "3  Football                 11       True       high         TBD\n",
      "4    Hockey                 11       True     medium         TBD\n"
     ]
    }
   ],
   "source": [
    "print(\"Printing the dataframe row(s) with maximum number of players value \\n\")\n",
    "print(new_df[new_df['Number_of_players'] == df['Number_of_players'].max()])"
   ]
  },
  {
   "cell_type": "code",
   "execution_count": 24,
   "metadata": {},
   "outputs": [
    {
     "name": "stdout",
     "output_type": "stream",
     "text": [
      "Printing only the index and Sport columns for the row(s) with maximum number of players \n",
      "\n",
      "2     Cricket\n",
      "3    Football\n",
      "4      Hockey\n",
      "Name: Sport, dtype: object\n"
     ]
    }
   ],
   "source": [
    "print(\"Printing only the index and Sport columns for the row(s) with maximum number of players \\n\")\n",
    "print(new_df[new_df['Number_of_players'] == df['Number_of_players'].max()]['Sport'])"
   ]
  },
  {
   "cell_type": "code",
   "execution_count": 25,
   "metadata": {},
   "outputs": [],
   "source": [
    "#Saving Data Frame to disk\n",
    "new_df.to_csv('Sports.csv')"
   ]
  },
  {
   "cell_type": "code",
   "execution_count": 26,
   "metadata": {},
   "outputs": [],
   "source": [
    "#Loading data frame from disk\n",
    "Loaded_df = pd.read_csv('Sports.csv')"
   ]
  },
  {
   "cell_type": "code",
   "execution_count": 27,
   "metadata": {},
   "outputs": [
    {
     "name": "stdout",
     "output_type": "stream",
     "text": [
      "Original Data Frame: \n",
      "           Sport  Number_of_players  Ball_game Popularity Best Player\n",
      "0     Badminton                  2      False       high         TBD\n",
      "1    Basketball                  5       True       high         TBD\n",
      "2       Cricket                 11       True       high         TBD\n",
      "3      Football                 11       True       high         TBD\n",
      "4        Hockey                 11       True     medium         TBD\n",
      "5   Lawn Tennis                  2       True     medium         TBD\n",
      "6         Chess                  2      False     medium         TBD\n",
      "7  Table Tennis                  3       True        low         TBD\n",
      "\n",
      "Loaded Data Frame: \n",
      "    Unnamed: 0         Sport  Number_of_players  Ball_game Popularity  \\\n",
      "0           0     Badminton                  2      False       high   \n",
      "1           1    Basketball                  5       True       high   \n",
      "2           2       Cricket                 11       True       high   \n",
      "3           3      Football                 11       True       high   \n",
      "4           4        Hockey                 11       True     medium   \n",
      "5           5   Lawn Tennis                  2       True     medium   \n",
      "6           6         Chess                  2      False     medium   \n",
      "7           7  Table Tennis                  3       True        low   \n",
      "\n",
      "  Best Player  \n",
      "0         TBD  \n",
      "1         TBD  \n",
      "2         TBD  \n",
      "3         TBD  \n",
      "4         TBD  \n",
      "5         TBD  \n",
      "6         TBD  \n",
      "7         TBD  \n"
     ]
    }
   ],
   "source": [
    "print(\"Original Data Frame: \\n\", new_df)\n",
    "print(\"\\nLoaded Data Frame: \\n\", Loaded_df)"
   ]
  },
  {
   "cell_type": "markdown",
   "metadata": {},
   "source": [
    "# Loaded csv file has double indexing because it saved the index as a seperate coloumn"
   ]
  }
 ],
 "metadata": {
  "kernelspec": {
   "display_name": "Python 3",
   "language": "python",
   "name": "python3"
  },
  "language_info": {
   "codemirror_mode": {
    "name": "ipython",
    "version": 3
   },
   "file_extension": ".py",
   "mimetype": "text/x-python",
   "name": "python",
   "nbconvert_exporter": "python",
   "pygments_lexer": "ipython3",
   "version": "3.8.5"
  }
 },
 "nbformat": 4,
 "nbformat_minor": 2
}
