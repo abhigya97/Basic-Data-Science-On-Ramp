{
 "cells": [
  {
   "cell_type": "markdown",
   "metadata": {},
   "source": [
    "- Import numpy and create 2 ndarrays with the same length and another one with a different length (3 arrays in total).\n",
    "\n",
    "- Perform at least three operations of your choice on the arrays with the same size.\n",
    "\n",
    "- Perform at least three operations of your choice on one element from two arrays. \n",
    "\n",
    "- Create four variables containing a string, integer, float, and boolean and try to cast them to (in order) boolean, float, integer, and string. "
   ]
  },
  {
   "cell_type": "code",
   "execution_count": 1,
   "metadata": {},
   "outputs": [],
   "source": [
    "import numpy as np"
   ]
  },
  {
   "cell_type": "code",
   "execution_count": 2,
   "metadata": {},
   "outputs": [
    {
     "name": "stdout",
     "output_type": "stream",
     "text": [
      "Array a:  [1 2 3 4 5] \n",
      "Size of a:  5\n",
      "\n",
      "Array b:  [9 8 7 6 5] \n",
      "Size of b:  5\n",
      "\n",
      "Array c:  [10 11 12] \n",
      "Size of c:  3\n"
     ]
    }
   ],
   "source": [
    "#Defining 3 arrays, a and b are of same size while c is of different size.\n",
    "a = np.array([1,2,3,4,5])\n",
    "b = np.array([9,8,7,6,5])\n",
    "c = np.array([10,11,12])\n",
    "\n",
    "print(\"Array a: \", a , \"\\nSize of a: \", a.size)\n",
    "print(\"\\nArray b: \", b , \"\\nSize of b: \", b.size)\n",
    "print(\"\\nArray c: \", c , \"\\nSize of c: \", c.size)"
   ]
  },
  {
   "cell_type": "code",
   "execution_count": 3,
   "metadata": {},
   "outputs": [
    {
     "name": "stdout",
     "output_type": "stream",
     "text": [
      "Adding two arrays element wise: [10 10 10 10 10]\n",
      "\n",
      "Subtracting two arrays element wise: [-8 -6 -4 -2  0]\n",
      "\n",
      "Multiplying two arrays element wise: [ 9 16 21 24 25]\n"
     ]
    }
   ],
   "source": [
    "#Operation 1:\n",
    "#Addition\n",
    "print(\"Adding two arrays element wise:\", a + b)\n",
    "\n",
    "#Operation 2:\n",
    "#Subtraction\n",
    "print(\"\\nSubtracting two arrays element wise:\", a - b)\n",
    "\n",
    "#Operation 3:\n",
    "#Multiplication\n",
    "print(\"\\nMultiplying two arrays element wise:\", a * b)"
   ]
  },
  {
   "cell_type": "code",
   "execution_count": 4,
   "metadata": {},
   "outputs": [
    {
     "name": "stdout",
     "output_type": "stream",
     "text": [
      "Original a:  [1 2 3 4 5]\n",
      "\n",
      "a after reassigning one element:  [1 2 8 4 5]\n",
      "\n",
      "a after raising one element to power 3:  [  1   2 512   4   5]\n",
      "\n",
      "a after subtracting 10 from one element:  [  1   2 502   4   5]\n",
      "\n",
      "a after dividing one element by 2:  [  1   2 251   4   5]\n"
     ]
    }
   ],
   "source": [
    "#Reassigning the element of a\n",
    "\n",
    "print(\"Original a: \", a)\n",
    "a[2] = 8\n",
    "print(\"\\na after reassigning one element: \", a)\n",
    "\n",
    "#Operation1\n",
    "#Raising the element's power to 3\n",
    "a[2] = a[2] ** 3\n",
    "print(\"\\na after raising one element to power 3: \", a)\n",
    "\n",
    "#Operation2\n",
    "#Subtracting 10 from the element\n",
    "a[2] -= 10\n",
    "print(\"\\na after subtracting 10 from one element: \", a)\n",
    "\n",
    "#Operation3\n",
    "#Dividing element by 2 and keeping the integer value because array is of int type\n",
    "a[2]  = a[2] // 2\n",
    "print(\"\\na after dividing one element by 2: \", a)"
   ]
  },
  {
   "cell_type": "code",
   "execution_count": 5,
   "metadata": {},
   "outputs": [
    {
     "name": "stdout",
     "output_type": "stream",
     "text": [
      "Original b:  [9 8 7 6 5]\n",
      "\n",
      "b after reassigning one element:  [9 8 3 6 5]\n",
      "\n",
      "b after raising one element to power 3:  [ 9  8 27  6  5]\n",
      "\n",
      "b after subtracting 10 from one element:  [ 9  8 17  6  5]\n",
      "\n",
      "b after dividing one element by 2:  [9 8 8 6 5]\n"
     ]
    }
   ],
   "source": [
    "#Reassigning the element of b\n",
    "\n",
    "print(\"Original b: \", b)\n",
    "b[2] = 3\n",
    "print(\"\\nb after reassigning one element: \", b)\n",
    "\n",
    "#Operation1\n",
    "#Raising the element's power to 3\n",
    "b[2] = b[2] ** 3\n",
    "print(\"\\nb after raising one element to power 3: \", b)\n",
    "\n",
    "#Operation2\n",
    "#Subtracting 10 from the element\n",
    "b[2] -= 10\n",
    "print(\"\\nb after subtracting 10 from one element: \", b)\n",
    "\n",
    "#Operation3\n",
    "#Dividing element by 2 and keeping the integer value because array is of int type\n",
    "b[2] = b[2] // 2\n",
    "print(\"\\nb after dividing one element by 2: \", b)"
   ]
  },
  {
   "cell_type": "code",
   "execution_count": 6,
   "metadata": {},
   "outputs": [
    {
     "name": "stdout",
     "output_type": "stream",
     "text": [
      "<class 'str'>\n",
      "<class 'int'>\n",
      "<class 'float'>\n",
      "<class 'bool'>\n"
     ]
    }
   ],
   "source": [
    "string = 'Hello'\n",
    "integer = 26\n",
    "floats = 3.7\n",
    "boolean = True\n",
    "\n",
    "print(type(string))\n",
    "print(type(integer))\n",
    "print(type(floats))\n",
    "print(type(boolean))"
   ]
  },
  {
   "cell_type": "code",
   "execution_count": 7,
   "metadata": {},
   "outputs": [
    {
     "data": {
      "text/plain": [
       "True"
      ]
     },
     "execution_count": 7,
     "metadata": {},
     "output_type": "execute_result"
    }
   ],
   "source": [
    "bool(string)\n",
    "#Returns true for the existence of string. "
   ]
  },
  {
   "cell_type": "code",
   "execution_count": 8,
   "metadata": {},
   "outputs": [
    {
     "data": {
      "text/plain": [
       "26.0"
      ]
     },
     "execution_count": 8,
     "metadata": {},
     "output_type": "execute_result"
    }
   ],
   "source": [
    "float(integer)"
   ]
  },
  {
   "cell_type": "code",
   "execution_count": 9,
   "metadata": {},
   "outputs": [
    {
     "data": {
      "text/plain": [
       "3"
      ]
     },
     "execution_count": 9,
     "metadata": {},
     "output_type": "execute_result"
    }
   ],
   "source": [
    "int(floats)\n",
    "#Converts into lower floor value always."
   ]
  },
  {
   "cell_type": "code",
   "execution_count": 10,
   "metadata": {},
   "outputs": [
    {
     "data": {
      "text/plain": [
       "'True'"
      ]
     },
     "execution_count": 10,
     "metadata": {},
     "output_type": "execute_result"
    }
   ],
   "source": [
    "str(boolean)"
   ]
  },
  {
   "cell_type": "code",
   "execution_count": 11,
   "metadata": {},
   "outputs": [
    {
     "data": {
      "text/plain": [
       "False"
      ]
     },
     "execution_count": 11,
     "metadata": {},
     "output_type": "execute_result"
    }
   ],
   "source": [
    "#For an empty string, typecasting to bool will give False answer.\n",
    "bool(\"\")"
   ]
  },
  {
   "cell_type": "markdown",
   "metadata": {},
   "source": [
    "# Control flow\n",
    "- Create an array containing numbers 1 to 10. Iterate through the array using a for loop. Inside the for loop use some if statement to print the numbers \"four\" instead of 4 and \"eight\" instead of 8, otherwise print the digit number. "
   ]
  },
  {
   "cell_type": "code",
   "execution_count": 12,
   "metadata": {},
   "outputs": [
    {
     "name": "stdout",
     "output_type": "stream",
     "text": [
      "[ 1  2  3  4  5  6  7  8  9 10]\n"
     ]
    }
   ],
   "source": [
    "#Creating an array with numbers 1 to 10 inclusive.\n",
    "Array = np.arange(1,11)\n",
    "print(Array)"
   ]
  },
  {
   "cell_type": "code",
   "execution_count": 13,
   "metadata": {},
   "outputs": [
    {
     "name": "stdout",
     "output_type": "stream",
     "text": [
      "1\n",
      "2\n",
      "3\n",
      "four\n",
      "5\n",
      "6\n",
      "7\n",
      "eight\n",
      "9\n",
      "10\n"
     ]
    }
   ],
   "source": [
    "for arr in Array:\n",
    "    if arr == 4:\n",
    "        print('four')\n",
    "    elif arr == 8:\n",
    "        print('eight')\n",
    "    else:\n",
    "        print(arr)"
   ]
  },
  {
   "cell_type": "markdown",
   "metadata": {},
   "source": [
    "# Data Structure\n",
    "- Create a tuple containing 3 numbers and a list containing 5 numbers. Unpack the tuple into 3 different variables and print them. Then try to remove an element from the list and instead insert one of the variables that were the result of unpacked tuple. Finally, slice and sort the first 3 elements of the list. \n",
    "\n",
    "- Create a dictionary with these keys: 'int', 'float', 'string', 'boolean', 'list', 'set', 'tuple' and 'dict' and for each key, assign the value of that specific type. For instance, you should create a temporary small dictionary to assign to the 'dict'. "
   ]
  },
  {
   "cell_type": "code",
   "execution_count": 14,
   "metadata": {},
   "outputs": [
    {
     "name": "stdout",
     "output_type": "stream",
     "text": [
      "Tuple:  (17, 18, 19)\n",
      "List:  [3, 4, 5, 6, 7]\n"
     ]
    }
   ],
   "source": [
    "Tuple = (17, 18, 19)\n",
    "List = [3, 4, 5, 6, 7]\n",
    "\n",
    "print(\"Tuple: \", Tuple)\n",
    "print(\"List: \", List)"
   ]
  },
  {
   "cell_type": "code",
   "execution_count": 15,
   "metadata": {},
   "outputs": [
    {
     "name": "stdout",
     "output_type": "stream",
     "text": [
      "x:  17\n",
      "y:  18\n",
      "z:  19\n"
     ]
    }
   ],
   "source": [
    "x, y, z = Tuple\n",
    "\n",
    "print(\"x: \", x)\n",
    "print(\"y: \", y)\n",
    "print(\"z: \", z)"
   ]
  },
  {
   "cell_type": "code",
   "execution_count": 16,
   "metadata": {},
   "outputs": [
    {
     "name": "stdout",
     "output_type": "stream",
     "text": [
      "[3, 5, 6, 7]\n"
     ]
    }
   ],
   "source": [
    "List.remove(4)\n",
    "print(List)"
   ]
  },
  {
   "cell_type": "code",
   "execution_count": 17,
   "metadata": {},
   "outputs": [
    {
     "name": "stdout",
     "output_type": "stream",
     "text": [
      "[3, 18, 5, 6, 7]\n"
     ]
    }
   ],
   "source": [
    "#first argument in insert function is the position at which we want to insert.\n",
    "List.insert(1, y)\n",
    "print(List)"
   ]
  },
  {
   "cell_type": "code",
   "execution_count": 18,
   "metadata": {},
   "outputs": [
    {
     "name": "stdout",
     "output_type": "stream",
     "text": [
      "Sliced:  [3, 18, 5]\n",
      "Sorted:  [3, 5, 18]\n"
     ]
    }
   ],
   "source": [
    "#Slicing the list and taking first 3 elements.\n",
    "Sliced_list = List[:3]\n",
    "print(\"Sliced: \", Sliced_list)\n",
    "\n",
    "#Sorting the first three elements.\n",
    "Sorted_sliced_list = sorted(Sliced_list)\n",
    "print(\"Sorted: \", Sorted_sliced_list)"
   ]
  },
  {
   "cell_type": "code",
   "execution_count": 19,
   "metadata": {},
   "outputs": [
    {
     "name": "stdout",
     "output_type": "stream",
     "text": [
      "{'key1': 'value1', 'key2': 'value2'}\n"
     ]
    }
   ],
   "source": [
    "#Creating a temporary dictionary.\n",
    "temp_dict = {'key1' : 'value1', 'key2' : 'value2'}\n",
    "print(temp_dict)"
   ]
  },
  {
   "cell_type": "code",
   "execution_count": 20,
   "metadata": {},
   "outputs": [
    {
     "name": "stdout",
     "output_type": "stream",
     "text": [
      "Dictionary:  {'int': 3, 'float': 4.6, 'string': 'hello', 'boolean': True, 'list': [1, 2, 3], 'set': {4, 5, 6}, 'tuple': (3, 4, 5), 'dict': {'key1': 'value1', 'key2': 'value2'}}\n"
     ]
    }
   ],
   "source": [
    "#Dictionary of all data types\n",
    "Dictionary = {'int' : 3, 'float' : 4.6, 'string' : 'hello', 'boolean' : True, 'list' : [1, 2, 3],\\\n",
    "              'set' : {4, 5, 6}, 'tuple' : (3,4,5), 'dict' : temp_dict}\n",
    "\n",
    "print(\"Dictionary: \", Dictionary)"
   ]
  },
  {
   "cell_type": "code",
   "execution_count": 21,
   "metadata": {},
   "outputs": [
    {
     "name": "stdout",
     "output_type": "stream",
     "text": [
      "<class 'int'>\n",
      "<class 'float'>\n",
      "<class 'str'>\n",
      "<class 'bool'>\n",
      "<class 'list'>\n",
      "<class 'set'>\n",
      "<class 'tuple'>\n",
      "<class 'dict'>\n"
     ]
    }
   ],
   "source": [
    "print(type(Dictionary['int']))\n",
    "\n",
    "print(type(Dictionary['float']))\n",
    "\n",
    "print(type(Dictionary['string']))\n",
    "\n",
    "print(type(Dictionary['boolean']))\n",
    "\n",
    "print(type(Dictionary['list']))\n",
    "\n",
    "print(type(Dictionary['set']))\n",
    "\n",
    "print(type(Dictionary['tuple']))\n",
    "\n",
    "print(type(Dictionary['dict']))"
   ]
  },
  {
   "cell_type": "markdown",
   "metadata": {},
   "source": [
    "# Sequence Function\n",
    "\n",
    "Create a list containing letters 'a' to 'f', then using a for loop and proper sequence function, produce the following output: \n",
    "\n",
    "3 --> a \n",
    "\n",
    "4 --> b\n",
    "\n",
    "5 --> c \n",
    "\n",
    "6 --> d\n",
    "\n",
    "7 --> e \n",
    "\n",
    "8 --> f  "
   ]
  },
  {
   "cell_type": "code",
   "execution_count": 22,
   "metadata": {},
   "outputs": [
    {
     "name": "stdout",
     "output_type": "stream",
     "text": [
      "3 --> a\n",
      "\n",
      "\n",
      "4 --> b\n",
      "\n",
      "\n",
      "5 --> c\n",
      "\n",
      "\n",
      "6 --> d\n",
      "\n",
      "\n",
      "7 --> e\n",
      "\n",
      "\n",
      "8 --> f\n",
      "\n",
      "\n"
     ]
    }
   ],
   "source": [
    "Letters = ['a', 'b', 'c', 'd', 'e', 'f']\n",
    "\n",
    "#Using enumerate sequence function\n",
    "#i is for index and l is for every corresponding letter/character inside the list.\n",
    "for i, l in enumerate(Letters):\n",
    "    print(i + 3, \"-->\", l)\n",
    "    print('\\n')"
   ]
  },
  {
   "cell_type": "markdown",
   "metadata": {},
   "source": [
    "# Copying \n",
    "By copying the previous list, create a new variable containing the same 'a' to 'f' elements from the previous list. Change an element in one of the variables and make sure the other doesn't change. "
   ]
  },
  {
   "cell_type": "code",
   "execution_count": 23,
   "metadata": {},
   "outputs": [
    {
     "name": "stdout",
     "output_type": "stream",
     "text": [
      "['a', 'b', 'c', 'd', 'e', 'f']\n"
     ]
    }
   ],
   "source": [
    "Copy_of_Letters = Letters.copy()\n",
    "#Copying the list\n",
    "\n",
    "print(Copy_of_Letters)"
   ]
  },
  {
   "cell_type": "code",
   "execution_count": 24,
   "metadata": {},
   "outputs": [
    {
     "name": "stdout",
     "output_type": "stream",
     "text": [
      "Copy of the list \n",
      "\n",
      "['a', 'b', 'c', 'g', 'e', 'f']\n",
      "\n",
      "Actual List \n",
      "\n",
      "['a', 'b', 'c', 'd', 'e', 'f']\n"
     ]
    }
   ],
   "source": [
    "Copy_of_Letters[3] = 'g'\n",
    "#Changing a variable in the copy\n",
    "\n",
    "\n",
    "print(\"Copy of the list \\n\")\n",
    "print(Copy_of_Letters)\n",
    "print(\"\\nActual List \\n\")\n",
    "print(Letters)"
   ]
  },
  {
   "cell_type": "markdown",
   "metadata": {},
   "source": [
    "# Exception Handling\n",
    "Create a variable containing a tuple object. Then try to change its first element the way you change an element in a list and see what kind of error you will get. Then try to catch handle the error and instead of the error print \"Tuples are immutable :)\""
   ]
  },
  {
   "cell_type": "code",
   "execution_count": 25,
   "metadata": {},
   "outputs": [
    {
     "name": "stdout",
     "output_type": "stream",
     "text": [
      "<class 'tuple'>\n"
     ]
    }
   ],
   "source": [
    "Exception_tuple = (7, 8, 10)\n",
    "\n",
    "print(type(Exception_tuple))"
   ]
  },
  {
   "cell_type": "code",
   "execution_count": 26,
   "metadata": {},
   "outputs": [
    {
     "name": "stdout",
     "output_type": "stream",
     "text": [
      "Tuples are immutable :)\n"
     ]
    }
   ],
   "source": [
    "#Assigning the tuple generated a TypeError\n",
    "try:\n",
    "    Exception_tuple[1] = 4\n",
    "except TypeError:\n",
    "    print(\"Tuples are immutable :)\")"
   ]
  }
 ],
 "metadata": {
  "kernelspec": {
   "display_name": "Python 3",
   "language": "python",
   "name": "python3"
  },
  "language_info": {
   "codemirror_mode": {
    "name": "ipython",
    "version": 3
   },
   "file_extension": ".py",
   "mimetype": "text/x-python",
   "name": "python",
   "nbconvert_exporter": "python",
   "pygments_lexer": "ipython3",
   "version": "3.8.5"
  }
 },
 "nbformat": 4,
 "nbformat_minor": 2
}
