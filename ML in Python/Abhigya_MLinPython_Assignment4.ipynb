{
 "cells": [
  {
   "cell_type": "markdown",
   "metadata": {},
   "source": [
    "# Implement your own logistic regression and classify the iris data into setosa or non-setosa. You are supposed to write your own logit function and implement gradient descent to learn optimal weights. Then using this weight classify the entire data set as setosa or non-setosa. We encourage you not to use logistic regression implementation of scikit learn package. (If you are facing too much difficulty during implementation you can use packages no marks will be deducted for that. However, please try your best to avoid using packages. ) Report how much accuracy you got. You can try your logistic regression code on some other dataset as well for binary classification. \n"
   ]
  },
  {
   "cell_type": "code",
   "execution_count": 1,
   "metadata": {},
   "outputs": [],
   "source": [
    "import pandas as pd\n",
    "import numpy as np"
   ]
  },
  {
   "cell_type": "code",
   "execution_count": 2,
   "metadata": {},
   "outputs": [
    {
     "data": {
      "text/html": [
       "<div>\n",
       "<style scoped>\n",
       "    .dataframe tbody tr th:only-of-type {\n",
       "        vertical-align: middle;\n",
       "    }\n",
       "\n",
       "    .dataframe tbody tr th {\n",
       "        vertical-align: top;\n",
       "    }\n",
       "\n",
       "    .dataframe thead th {\n",
       "        text-align: right;\n",
       "    }\n",
       "</style>\n",
       "<table border=\"1\" class=\"dataframe\">\n",
       "  <thead>\n",
       "    <tr style=\"text-align: right;\">\n",
       "      <th></th>\n",
       "      <th>sepal_length</th>\n",
       "      <th>sepal_width</th>\n",
       "      <th>petal_length</th>\n",
       "      <th>petal_width</th>\n",
       "      <th>class</th>\n",
       "    </tr>\n",
       "  </thead>\n",
       "  <tbody>\n",
       "    <tr>\n",
       "      <th>0</th>\n",
       "      <td>5.1</td>\n",
       "      <td>3.5</td>\n",
       "      <td>1.4</td>\n",
       "      <td>0.2</td>\n",
       "      <td>Iris-setosa</td>\n",
       "    </tr>\n",
       "    <tr>\n",
       "      <th>1</th>\n",
       "      <td>4.9</td>\n",
       "      <td>3.0</td>\n",
       "      <td>1.4</td>\n",
       "      <td>0.2</td>\n",
       "      <td>Iris-setosa</td>\n",
       "    </tr>\n",
       "    <tr>\n",
       "      <th>2</th>\n",
       "      <td>4.7</td>\n",
       "      <td>3.2</td>\n",
       "      <td>1.3</td>\n",
       "      <td>0.2</td>\n",
       "      <td>Iris-setosa</td>\n",
       "    </tr>\n",
       "    <tr>\n",
       "      <th>3</th>\n",
       "      <td>4.6</td>\n",
       "      <td>3.1</td>\n",
       "      <td>1.5</td>\n",
       "      <td>0.2</td>\n",
       "      <td>Iris-setosa</td>\n",
       "    </tr>\n",
       "    <tr>\n",
       "      <th>4</th>\n",
       "      <td>5.0</td>\n",
       "      <td>3.6</td>\n",
       "      <td>1.4</td>\n",
       "      <td>0.2</td>\n",
       "      <td>Iris-setosa</td>\n",
       "    </tr>\n",
       "    <tr>\n",
       "      <th>...</th>\n",
       "      <td>...</td>\n",
       "      <td>...</td>\n",
       "      <td>...</td>\n",
       "      <td>...</td>\n",
       "      <td>...</td>\n",
       "    </tr>\n",
       "    <tr>\n",
       "      <th>145</th>\n",
       "      <td>6.7</td>\n",
       "      <td>3.0</td>\n",
       "      <td>5.2</td>\n",
       "      <td>2.3</td>\n",
       "      <td>Iris-virginica</td>\n",
       "    </tr>\n",
       "    <tr>\n",
       "      <th>146</th>\n",
       "      <td>6.3</td>\n",
       "      <td>2.5</td>\n",
       "      <td>5.0</td>\n",
       "      <td>1.9</td>\n",
       "      <td>Iris-virginica</td>\n",
       "    </tr>\n",
       "    <tr>\n",
       "      <th>147</th>\n",
       "      <td>6.5</td>\n",
       "      <td>3.0</td>\n",
       "      <td>5.2</td>\n",
       "      <td>2.0</td>\n",
       "      <td>Iris-virginica</td>\n",
       "    </tr>\n",
       "    <tr>\n",
       "      <th>148</th>\n",
       "      <td>6.2</td>\n",
       "      <td>3.4</td>\n",
       "      <td>5.4</td>\n",
       "      <td>2.3</td>\n",
       "      <td>Iris-virginica</td>\n",
       "    </tr>\n",
       "    <tr>\n",
       "      <th>149</th>\n",
       "      <td>5.9</td>\n",
       "      <td>3.0</td>\n",
       "      <td>5.1</td>\n",
       "      <td>1.8</td>\n",
       "      <td>Iris-virginica</td>\n",
       "    </tr>\n",
       "  </tbody>\n",
       "</table>\n",
       "<p>150 rows × 5 columns</p>\n",
       "</div>"
      ],
      "text/plain": [
       "     sepal_length  sepal_width  petal_length  petal_width           class\n",
       "0             5.1          3.5           1.4          0.2     Iris-setosa\n",
       "1             4.9          3.0           1.4          0.2     Iris-setosa\n",
       "2             4.7          3.2           1.3          0.2     Iris-setosa\n",
       "3             4.6          3.1           1.5          0.2     Iris-setosa\n",
       "4             5.0          3.6           1.4          0.2     Iris-setosa\n",
       "..            ...          ...           ...          ...             ...\n",
       "145           6.7          3.0           5.2          2.3  Iris-virginica\n",
       "146           6.3          2.5           5.0          1.9  Iris-virginica\n",
       "147           6.5          3.0           5.2          2.0  Iris-virginica\n",
       "148           6.2          3.4           5.4          2.3  Iris-virginica\n",
       "149           5.9          3.0           5.1          1.8  Iris-virginica\n",
       "\n",
       "[150 rows x 5 columns]"
      ]
     },
     "execution_count": 2,
     "metadata": {},
     "output_type": "execute_result"
    }
   ],
   "source": [
    "iris = pd.read_csv('iris.csv')\n",
    "iris"
   ]
  },
  {
   "cell_type": "code",
   "execution_count": 3,
   "metadata": {},
   "outputs": [],
   "source": [
    "#Getting the labels to predict\n",
    "Y = list((iris['class'] == 'Iris-setosa').astype(int))\n",
    "Y = np.asarray(Y)"
   ]
  },
  {
   "cell_type": "code",
   "execution_count": 4,
   "metadata": {},
   "outputs": [],
   "source": [
    "#Getting the features of the data\n",
    "X = iris.iloc[:,:4].values"
   ]
  },
  {
   "cell_type": "markdown",
   "metadata": {},
   "source": [
    "### Defining some helper functions"
   ]
  },
  {
   "cell_type": "code",
   "execution_count": 5,
   "metadata": {},
   "outputs": [],
   "source": [
    "def sig(x):\n",
    "    o = 1 / (1 + np.exp(-x))\n",
    "    return o"
   ]
  },
  {
   "cell_type": "code",
   "execution_count": 6,
   "metadata": {},
   "outputs": [],
   "source": [
    "def cost_fun(y_hat, y):\n",
    "    \n",
    "    c = (- y * np.log(y_hat)) - ((1 - y) * np.log(1 - y_hat))\n",
    "    \n",
    "    return c.mean()"
   ]
  },
  {
   "cell_type": "code",
   "execution_count": 7,
   "metadata": {},
   "outputs": [],
   "source": [
    "def log_reg(W, X, B, Y, eta):\n",
    "    #number of samples\n",
    "    m = X.shape[0]\n",
    "    #Getting the y_hat value, This will be a value between 0 and 1\n",
    "    Y_hat = sig(np.dot(X, W) + B)\n",
    "    \n",
    "    #Derivative of sigmoid function\n",
    "    cost = cost_fun(Y_hat, Y)\n",
    "    \n",
    "    #Gradient\n",
    "    dW = 1/m * np.dot(X.T, (Y_hat - Y))\n",
    "    dB = 1/m * np.sum(Y_hat - Y)\n",
    "    \n",
    "    #Update\n",
    "    W = W - eta * dW\n",
    "    B = B - eta * dB\n",
    "\n",
    "    return W, B, cost"
   ]
  },
  {
   "cell_type": "code",
   "execution_count": 8,
   "metadata": {},
   "outputs": [],
   "source": [
    "def train(X, Y, eta, epochs):\n",
    "    \n",
    "    #Getting number of features\n",
    "    p = X.shape[1]\n",
    "    \n",
    "    #Initializing W and B with random numbers\n",
    "    #W = np.zeros(p)\n",
    "    W = np.random.rand(p)\n",
    "    #B = 0\n",
    "    B = np.random.rand()\n",
    "    \n",
    "    #Shuffling the data\n",
    "    #To avoid overfitting\n",
    "    shuffler = np.random.permutation(len(X))\n",
    "    X_ = X[shuffler]\n",
    "    Y_ = Y[shuffler]\n",
    "    \n",
    "    cost_list = []\n",
    "    \n",
    "    for i in range(epochs):\n",
    "        W, B, cost = log_reg(W, X_, B, Y_, eta)\n",
    "        cost_list.append(cost)\n",
    "\n",
    "    return W, B, cost_list"
   ]
  },
  {
   "cell_type": "code",
   "execution_count": 9,
   "metadata": {},
   "outputs": [],
   "source": [
    "def calc_accuracy(X, Y, W, B):\n",
    "    \n",
    "    Y_h = sig(np.dot(X, W) + B)\n",
    "    \n",
    "    pred = Y_h > 0.5\n",
    "    actual = Y > 0.5\n",
    "    #Using this to get total number of correct predictions\n",
    "    correct_pred = sum((pred == actual) * 1)\n",
    "    \n",
    "    accuracy = (correct_pred/ X.shape[0]) * 100\n",
    "    \n",
    "    return accuracy"
   ]
  },
  {
   "cell_type": "markdown",
   "metadata": {},
   "source": [
    "### Using Logistic Regression!"
   ]
  },
  {
   "cell_type": "code",
   "execution_count": 10,
   "metadata": {},
   "outputs": [],
   "source": [
    "W1, B1, cost_list1 = train(X, Y, 0.1, 100)"
   ]
  },
  {
   "cell_type": "code",
   "execution_count": 11,
   "metadata": {},
   "outputs": [
    {
     "name": "stdout",
     "output_type": "stream",
     "text": [
      "Achieved accuracy is:  100.0\n"
     ]
    }
   ],
   "source": [
    "#Checking accuracy\n",
    "acc1 = calc_accuracy(X, Y, W1, B1)\n",
    "print(\"Achieved accuracy is: \", acc1)"
   ]
  },
  {
   "cell_type": "code",
   "execution_count": 12,
   "metadata": {},
   "outputs": [
    {
     "name": "stdout",
     "output_type": "stream",
     "text": [
      "Achieved accuracy on shuffled data is:  100.0\n"
     ]
    }
   ],
   "source": [
    "#Checking accuracy on shuffled data.\n",
    "shuffler = np.random.permutation(len(X))\n",
    "X_ = X[shuffler]\n",
    "Y_ = Y[shuffler]\n",
    "\n",
    "acc2 = calc_accuracy(X_, Y_, W1, B1)\n",
    "print(\"Achieved accuracy on shuffled data is: \", acc2)"
   ]
  },
  {
   "cell_type": "code",
   "execution_count": 13,
   "metadata": {},
   "outputs": [
    {
     "data": {
      "image/png": "[encoded data removed]",
      "text/plain": [
       "<Figure size 432x288 with 1 Axes>"
      ]
     },
     "metadata": {
      "needs_background": "light"
     },
     "output_type": "display_data"
    }
   ],
   "source": [
    "#Plotting error over the epochs\n",
    "\n",
    "import matplotlib.pyplot as plt\n",
    "plt.plot(cost_list1)\n",
    "plt.show()"
   ]
  },
  {
   "cell_type": "markdown",
   "metadata": {},
   "source": [
    "A lower learning rate decreases the accuracy. Looking at the plot for cost, it can be seen that lesser epochs can also achieve similar accuracy.\n",
    "Iris dataset is easy to classify. "
   ]
  },
  {
   "cell_type": "code",
   "execution_count": 14,
   "metadata": {},
   "outputs": [
    {
     "name": "stdout",
     "output_type": "stream",
     "text": [
      "Accuracy for test data is:  100.0\n"
     ]
    }
   ],
   "source": [
    "#Checking by dividing dataset into training and testing\n",
    "\n",
    "#Taking the shuffled dataset\n",
    "\n",
    "W2, B2, cost_list2 = train(X_[:120], Y_[:120], 0.1, 100)\n",
    "\n",
    "acc3 = calc_accuracy(X_[120:], Y_[120:], W2, B2)\n",
    "print(\"Accuracy for test data is: \", acc3)"
   ]
  },
  {
   "cell_type": "code",
   "execution_count": 15,
   "metadata": {},
   "outputs": [
    {
     "data": {
      "image/png": "[encoded data removed]",
      "text/plain": [
       "<Figure size 432x288 with 1 Axes>"
      ]
     },
     "metadata": {
      "needs_background": "light"
     },
     "output_type": "display_data"
    }
   ],
   "source": [
    "#Plotting error over the epochs\n",
    "\n",
    "import matplotlib.pyplot as plt\n",
    "plt.plot(cost_list2)\n",
    "plt.show()"
   ]
  },
  {
   "cell_type": "markdown",
   "metadata": {},
   "source": [
    "# You are familiar with the matrix notation and linear algebra. Using the mathematical procedure (discussed on unit, 9) of feature selection implement your own feature selection algorithm to select 5 best features of OnlineNewsPopularity data set."
   ]
  },
  {
   "cell_type": "code",
   "execution_count": 16,
   "metadata": {},
   "outputs": [
    {
     "data": {
      "text/html": [
       "<div>\n",
       "<style scoped>\n",
       "    .dataframe tbody tr th:only-of-type {\n",
       "        vertical-align: middle;\n",
       "    }\n",
       "\n",
       "    .dataframe tbody tr th {\n",
       "        vertical-align: top;\n",
       "    }\n",
       "\n",
       "    .dataframe thead th {\n",
       "        text-align: right;\n",
       "    }\n",
       "</style>\n",
       "<table border=\"1\" class=\"dataframe\">\n",
       "  <thead>\n",
       "    <tr style=\"text-align: right;\">\n",
       "      <th></th>\n",
       "      <th>n_tokens_title</th>\n",
       "      <th>n_tokens_content</th>\n",
       "      <th>n_unique_tokens</th>\n",
       "      <th>n_non_stop_words</th>\n",
       "      <th>n_non_stop_unique_tokens</th>\n",
       "      <th>num_hrefs</th>\n",
       "      <th>num_self_hrefs</th>\n",
       "      <th>num_imgs</th>\n",
       "      <th>num_videos</th>\n",
       "      <th>average_token_length</th>\n",
       "      <th>...</th>\n",
       "      <th>min_positive_polarity</th>\n",
       "      <th>max_positive_polarity</th>\n",
       "      <th>avg_negative_polarity</th>\n",
       "      <th>min_negative_polarity</th>\n",
       "      <th>max_negative_polarity</th>\n",
       "      <th>title_subjectivity</th>\n",
       "      <th>title_sentiment_polarity</th>\n",
       "      <th>abs_title_subjectivity</th>\n",
       "      <th>abs_title_sentiment_polarity</th>\n",
       "      <th>shares</th>\n",
       "    </tr>\n",
       "  </thead>\n",
       "  <tbody>\n",
       "    <tr>\n",
       "      <th>0</th>\n",
       "      <td>12</td>\n",
       "      <td>219</td>\n",
       "      <td>0.663594</td>\n",
       "      <td>1.0</td>\n",
       "      <td>0.815385</td>\n",
       "      <td>4</td>\n",
       "      <td>2</td>\n",
       "      <td>1</td>\n",
       "      <td>0</td>\n",
       "      <td>4.680365</td>\n",
       "      <td>...</td>\n",
       "      <td>0.100000</td>\n",
       "      <td>0.70</td>\n",
       "      <td>-0.350000</td>\n",
       "      <td>-0.600</td>\n",
       "      <td>-0.200000</td>\n",
       "      <td>0.500000</td>\n",
       "      <td>-0.187500</td>\n",
       "      <td>0.000000</td>\n",
       "      <td>0.187500</td>\n",
       "      <td>593</td>\n",
       "    </tr>\n",
       "    <tr>\n",
       "      <th>1</th>\n",
       "      <td>9</td>\n",
       "      <td>255</td>\n",
       "      <td>0.604743</td>\n",
       "      <td>1.0</td>\n",
       "      <td>0.791946</td>\n",
       "      <td>3</td>\n",
       "      <td>1</td>\n",
       "      <td>1</td>\n",
       "      <td>0</td>\n",
       "      <td>4.913725</td>\n",
       "      <td>...</td>\n",
       "      <td>0.033333</td>\n",
       "      <td>0.70</td>\n",
       "      <td>-0.118750</td>\n",
       "      <td>-0.125</td>\n",
       "      <td>-0.100000</td>\n",
       "      <td>0.000000</td>\n",
       "      <td>0.000000</td>\n",
       "      <td>0.500000</td>\n",
       "      <td>0.000000</td>\n",
       "      <td>711</td>\n",
       "    </tr>\n",
       "    <tr>\n",
       "      <th>2</th>\n",
       "      <td>9</td>\n",
       "      <td>211</td>\n",
       "      <td>0.575130</td>\n",
       "      <td>1.0</td>\n",
       "      <td>0.663866</td>\n",
       "      <td>3</td>\n",
       "      <td>1</td>\n",
       "      <td>1</td>\n",
       "      <td>0</td>\n",
       "      <td>4.393365</td>\n",
       "      <td>...</td>\n",
       "      <td>0.100000</td>\n",
       "      <td>1.00</td>\n",
       "      <td>-0.466667</td>\n",
       "      <td>-0.800</td>\n",
       "      <td>-0.133333</td>\n",
       "      <td>0.000000</td>\n",
       "      <td>0.000000</td>\n",
       "      <td>0.500000</td>\n",
       "      <td>0.000000</td>\n",
       "      <td>1500</td>\n",
       "    </tr>\n",
       "    <tr>\n",
       "      <th>3</th>\n",
       "      <td>9</td>\n",
       "      <td>531</td>\n",
       "      <td>0.503788</td>\n",
       "      <td>1.0</td>\n",
       "      <td>0.665635</td>\n",
       "      <td>9</td>\n",
       "      <td>0</td>\n",
       "      <td>1</td>\n",
       "      <td>0</td>\n",
       "      <td>4.404896</td>\n",
       "      <td>...</td>\n",
       "      <td>0.136364</td>\n",
       "      <td>0.80</td>\n",
       "      <td>-0.369697</td>\n",
       "      <td>-0.600</td>\n",
       "      <td>-0.166667</td>\n",
       "      <td>0.000000</td>\n",
       "      <td>0.000000</td>\n",
       "      <td>0.500000</td>\n",
       "      <td>0.000000</td>\n",
       "      <td>1200</td>\n",
       "    </tr>\n",
       "    <tr>\n",
       "      <th>4</th>\n",
       "      <td>13</td>\n",
       "      <td>1072</td>\n",
       "      <td>0.415646</td>\n",
       "      <td>1.0</td>\n",
       "      <td>0.540890</td>\n",
       "      <td>19</td>\n",
       "      <td>19</td>\n",
       "      <td>20</td>\n",
       "      <td>0</td>\n",
       "      <td>4.682836</td>\n",
       "      <td>...</td>\n",
       "      <td>0.033333</td>\n",
       "      <td>1.00</td>\n",
       "      <td>-0.220192</td>\n",
       "      <td>-0.500</td>\n",
       "      <td>-0.050000</td>\n",
       "      <td>0.454545</td>\n",
       "      <td>0.136364</td>\n",
       "      <td>0.045455</td>\n",
       "      <td>0.136364</td>\n",
       "      <td>505</td>\n",
       "    </tr>\n",
       "    <tr>\n",
       "      <th>...</th>\n",
       "      <td>...</td>\n",
       "      <td>...</td>\n",
       "      <td>...</td>\n",
       "      <td>...</td>\n",
       "      <td>...</td>\n",
       "      <td>...</td>\n",
       "      <td>...</td>\n",
       "      <td>...</td>\n",
       "      <td>...</td>\n",
       "      <td>...</td>\n",
       "      <td>...</td>\n",
       "      <td>...</td>\n",
       "      <td>...</td>\n",
       "      <td>...</td>\n",
       "      <td>...</td>\n",
       "      <td>...</td>\n",
       "      <td>...</td>\n",
       "      <td>...</td>\n",
       "      <td>...</td>\n",
       "      <td>...</td>\n",
       "      <td>...</td>\n",
       "    </tr>\n",
       "    <tr>\n",
       "      <th>39639</th>\n",
       "      <td>11</td>\n",
       "      <td>346</td>\n",
       "      <td>0.529052</td>\n",
       "      <td>1.0</td>\n",
       "      <td>0.684783</td>\n",
       "      <td>9</td>\n",
       "      <td>7</td>\n",
       "      <td>1</td>\n",
       "      <td>1</td>\n",
       "      <td>4.523121</td>\n",
       "      <td>...</td>\n",
       "      <td>0.100000</td>\n",
       "      <td>0.75</td>\n",
       "      <td>-0.260000</td>\n",
       "      <td>-0.500</td>\n",
       "      <td>-0.125000</td>\n",
       "      <td>0.100000</td>\n",
       "      <td>0.000000</td>\n",
       "      <td>0.400000</td>\n",
       "      <td>0.000000</td>\n",
       "      <td>1800</td>\n",
       "    </tr>\n",
       "    <tr>\n",
       "      <th>39640</th>\n",
       "      <td>12</td>\n",
       "      <td>328</td>\n",
       "      <td>0.696296</td>\n",
       "      <td>1.0</td>\n",
       "      <td>0.885057</td>\n",
       "      <td>9</td>\n",
       "      <td>7</td>\n",
       "      <td>3</td>\n",
       "      <td>48</td>\n",
       "      <td>4.405488</td>\n",
       "      <td>...</td>\n",
       "      <td>0.136364</td>\n",
       "      <td>0.70</td>\n",
       "      <td>-0.211111</td>\n",
       "      <td>-0.400</td>\n",
       "      <td>-0.100000</td>\n",
       "      <td>0.300000</td>\n",
       "      <td>1.000000</td>\n",
       "      <td>0.200000</td>\n",
       "      <td>1.000000</td>\n",
       "      <td>1900</td>\n",
       "    </tr>\n",
       "    <tr>\n",
       "      <th>39641</th>\n",
       "      <td>10</td>\n",
       "      <td>442</td>\n",
       "      <td>0.516355</td>\n",
       "      <td>1.0</td>\n",
       "      <td>0.644128</td>\n",
       "      <td>24</td>\n",
       "      <td>1</td>\n",
       "      <td>12</td>\n",
       "      <td>1</td>\n",
       "      <td>5.076923</td>\n",
       "      <td>...</td>\n",
       "      <td>0.136364</td>\n",
       "      <td>0.50</td>\n",
       "      <td>-0.356439</td>\n",
       "      <td>-0.800</td>\n",
       "      <td>-0.166667</td>\n",
       "      <td>0.454545</td>\n",
       "      <td>0.136364</td>\n",
       "      <td>0.045455</td>\n",
       "      <td>0.136364</td>\n",
       "      <td>1900</td>\n",
       "    </tr>\n",
       "    <tr>\n",
       "      <th>39642</th>\n",
       "      <td>6</td>\n",
       "      <td>682</td>\n",
       "      <td>0.539493</td>\n",
       "      <td>1.0</td>\n",
       "      <td>0.692661</td>\n",
       "      <td>10</td>\n",
       "      <td>1</td>\n",
       "      <td>1</td>\n",
       "      <td>0</td>\n",
       "      <td>4.975073</td>\n",
       "      <td>...</td>\n",
       "      <td>0.062500</td>\n",
       "      <td>0.50</td>\n",
       "      <td>-0.205246</td>\n",
       "      <td>-0.500</td>\n",
       "      <td>-0.012500</td>\n",
       "      <td>0.000000</td>\n",
       "      <td>0.000000</td>\n",
       "      <td>0.500000</td>\n",
       "      <td>0.000000</td>\n",
       "      <td>1100</td>\n",
       "    </tr>\n",
       "    <tr>\n",
       "      <th>39643</th>\n",
       "      <td>10</td>\n",
       "      <td>157</td>\n",
       "      <td>0.701987</td>\n",
       "      <td>1.0</td>\n",
       "      <td>0.846154</td>\n",
       "      <td>1</td>\n",
       "      <td>1</td>\n",
       "      <td>0</td>\n",
       "      <td>2</td>\n",
       "      <td>4.471338</td>\n",
       "      <td>...</td>\n",
       "      <td>0.100000</td>\n",
       "      <td>0.50</td>\n",
       "      <td>-0.200000</td>\n",
       "      <td>-0.200</td>\n",
       "      <td>-0.200000</td>\n",
       "      <td>0.333333</td>\n",
       "      <td>0.250000</td>\n",
       "      <td>0.166667</td>\n",
       "      <td>0.250000</td>\n",
       "      <td>1300</td>\n",
       "    </tr>\n",
       "  </tbody>\n",
       "</table>\n",
       "<p>39644 rows × 59 columns</p>\n",
       "</div>"
      ],
      "text/plain": [
       "       n_tokens_title  n_tokens_content  n_unique_tokens  n_non_stop_words  \\\n",
       "0                  12               219         0.663594               1.0   \n",
       "1                   9               255         0.604743               1.0   \n",
       "2                   9               211         0.575130               1.0   \n",
       "3                   9               531         0.503788               1.0   \n",
       "4                  13              1072         0.415646               1.0   \n",
       "...               ...               ...              ...               ...   \n",
       "39639              11               346         0.529052               1.0   \n",
       "39640              12               328         0.696296               1.0   \n",
       "39641              10               442         0.516355               1.0   \n",
       "39642               6               682         0.539493               1.0   \n",
       "39643              10               157         0.701987               1.0   \n",
       "\n",
       "       n_non_stop_unique_tokens  num_hrefs  num_self_hrefs  num_imgs  \\\n",
       "0                      0.815385          4               2         1   \n",
       "1                      0.791946          3               1         1   \n",
       "2                      0.663866          3               1         1   \n",
       "3                      0.665635          9               0         1   \n",
       "4                      0.540890         19              19        20   \n",
       "...                         ...        ...             ...       ...   \n",
       "39639                  0.684783          9               7         1   \n",
       "39640                  0.885057          9               7         3   \n",
       "39641                  0.644128         24               1        12   \n",
       "39642                  0.692661         10               1         1   \n",
       "39643                  0.846154          1               1         0   \n",
       "\n",
       "       num_videos  average_token_length  ...  min_positive_polarity  \\\n",
       "0               0              4.680365  ...               0.100000   \n",
       "1               0              4.913725  ...               0.033333   \n",
       "2               0              4.393365  ...               0.100000   \n",
       "3               0              4.404896  ...               0.136364   \n",
       "4               0              4.682836  ...               0.033333   \n",
       "...           ...                   ...  ...                    ...   \n",
       "39639           1              4.523121  ...               0.100000   \n",
       "39640          48              4.405488  ...               0.136364   \n",
       "39641           1              5.076923  ...               0.136364   \n",
       "39642           0              4.975073  ...               0.062500   \n",
       "39643           2              4.471338  ...               0.100000   \n",
       "\n",
       "       max_positive_polarity  avg_negative_polarity  min_negative_polarity  \\\n",
       "0                       0.70              -0.350000                 -0.600   \n",
       "1                       0.70              -0.118750                 -0.125   \n",
       "2                       1.00              -0.466667                 -0.800   \n",
       "3                       0.80              -0.369697                 -0.600   \n",
       "4                       1.00              -0.220192                 -0.500   \n",
       "...                      ...                    ...                    ...   \n",
       "39639                   0.75              -0.260000                 -0.500   \n",
       "39640                   0.70              -0.211111                 -0.400   \n",
       "39641                   0.50              -0.356439                 -0.800   \n",
       "39642                   0.50              -0.205246                 -0.500   \n",
       "39643                   0.50              -0.200000                 -0.200   \n",
       "\n",
       "       max_negative_polarity  title_subjectivity  title_sentiment_polarity  \\\n",
       "0                  -0.200000            0.500000                 -0.187500   \n",
       "1                  -0.100000            0.000000                  0.000000   \n",
       "2                  -0.133333            0.000000                  0.000000   \n",
       "3                  -0.166667            0.000000                  0.000000   \n",
       "4                  -0.050000            0.454545                  0.136364   \n",
       "...                      ...                 ...                       ...   \n",
       "39639              -0.125000            0.100000                  0.000000   \n",
       "39640              -0.100000            0.300000                  1.000000   \n",
       "39641              -0.166667            0.454545                  0.136364   \n",
       "39642              -0.012500            0.000000                  0.000000   \n",
       "39643              -0.200000            0.333333                  0.250000   \n",
       "\n",
       "       abs_title_subjectivity  abs_title_sentiment_polarity  shares  \n",
       "0                    0.000000                      0.187500     593  \n",
       "1                    0.500000                      0.000000     711  \n",
       "2                    0.500000                      0.000000    1500  \n",
       "3                    0.500000                      0.000000    1200  \n",
       "4                    0.045455                      0.136364     505  \n",
       "...                       ...                           ...     ...  \n",
       "39639                0.400000                      0.000000    1800  \n",
       "39640                0.200000                      1.000000    1900  \n",
       "39641                0.045455                      0.136364    1900  \n",
       "39642                0.500000                      0.000000    1100  \n",
       "39643                0.166667                      0.250000    1300  \n",
       "\n",
       "[39644 rows x 59 columns]"
      ]
     },
     "execution_count": 16,
     "metadata": {},
     "output_type": "execute_result"
    }
   ],
   "source": [
    "df = pd.read_csv('OnlineNewsPopularity.csv')\n",
    "df"
   ]
  },
  {
   "cell_type": "markdown",
   "metadata": {},
   "source": [
    "### Defining the linear regression model to calculate SSE and be able to perform feature selection"
   ]
  },
  {
   "cell_type": "code",
   "execution_count": 17,
   "metadata": {},
   "outputs": [],
   "source": [
    "def calc_error(y_h, y):\n",
    "    error = (y_h - y)\n",
    "    error = np.square(error)\n",
    "    error = sum(error)\n",
    "    return error"
   ]
  },
  {
   "cell_type": "code",
   "execution_count": 18,
   "metadata": {},
   "outputs": [],
   "source": [
    "def Actual_reg(x_train, y_train):\n",
    "    #Transposing x\n",
    "    x_t = x_train.T\n",
    "    s = np.matmul(x_t,x_train)\n",
    "    #Finding inverse\n",
    "    si = np.linalg.inv(s)\n",
    "    b = np.matmul(si,x_t)\n",
    "    #Getting final w_h\n",
    "    w_h = np.matmul(b,y_train)\n",
    "    return w_h"
   ]
  },
  {
   "cell_type": "code",
   "execution_count": 19,
   "metadata": {},
   "outputs": [],
   "source": [
    "from sklearn.model_selection import train_test_split\n",
    "\n",
    "def Linear_reg(Data, Resp, test_size):\n",
    "    #Splitting data into testing and training data.\n",
    "    x_train, x_test, y_train, y_test = train_test_split(Data, Resp, test_size = test_size, random_state=1, shuffle = False)\n",
    "    #Calculating the best possible w_h \n",
    "    w_h = Actual_reg(x_train, y_train)\n",
    "    #Getting the predicted values\n",
    "    y_h_train = np.matmul(x_train, w_h)\n",
    "    y_h_test = np.matmul(x_test, w_h)\n",
    "    #Calculating the error\n",
    "    train_error = calc_error(y_h_train, y_train)\n",
    "    test_error = calc_error(y_h_test, y_test)\n",
    "    return train_error, test_error"
   ]
  },
  {
   "cell_type": "markdown",
   "metadata": {},
   "source": [
    "### Performing Linear Regression on the Data without feature selection"
   ]
  },
  {
   "cell_type": "code",
   "execution_count": 20,
   "metadata": {},
   "outputs": [],
   "source": [
    "N = len(df.columns)"
   ]
  },
  {
   "cell_type": "code",
   "execution_count": 21,
   "metadata": {},
   "outputs": [],
   "source": [
    "DataX = df.iloc[:,:N-1].values\n",
    "\n",
    "DataY = df['shares'].values"
   ]
  },
  {
   "cell_type": "code",
   "execution_count": 22,
   "metadata": {},
   "outputs": [
    {
     "name": "stdout",
     "output_type": "stream",
     "text": [
      "Training error with all the features:  330026266486217.94\n",
      "Testing error with all the features:  3.1063201602565734e+18\n"
     ]
    }
   ],
   "source": [
    "train_error1, test_error1 = Linear_reg(DataX, DataY, 0.8)\n",
    "\n",
    "print(\"Training error with all the features: \", train_error1)\n",
    "print(\"Testing error with all the features: \", test_error1)"
   ]
  },
  {
   "cell_type": "markdown",
   "metadata": {},
   "source": [
    "### Select 5 best features"
   ]
  },
  {
   "cell_type": "markdown",
   "metadata": {},
   "source": [
    "Approach: Find how each feature affects the error. By taking one feature at a time. Then combine features with lowest errors till best sse is reached."
   ]
  },
  {
   "cell_type": "code",
   "execution_count": 23,
   "metadata": {},
   "outputs": [],
   "source": [
    "SSE_list = {}\n",
    "#Getting feature wise list of errors\n",
    "\n",
    "for i in range(N-1):\n",
    "    x = df.iloc[:, i].values\n",
    "    x = x.reshape([x.shape[0], 1])\n",
    "    tr, te = Linear_reg(x, DataY, 0.8)\n",
    "    \n",
    "    SSE_list[i] = tr"
   ]
  },
  {
   "cell_type": "code",
   "execution_count": 24,
   "metadata": {},
   "outputs": [],
   "source": [
    "#Sorting the features on basis of SSE\n",
    "Sorted_SSE = {k: v for k, v in sorted(SSE_list.items(), key=lambda item: item[1])}\n",
    "\n",
    "#Taking first 5 items!\n",
    "first_feature = list(Sorted_SSE.items())[0]\n",
    "#Next 4 features\n",
    "out = dict(list(Sorted_SSE.items())[1: 5])"
   ]
  },
  {
   "cell_type": "markdown",
   "metadata": {},
   "source": [
    "### For only the best 5 features!"
   ]
  },
  {
   "cell_type": "code",
   "execution_count": 25,
   "metadata": {},
   "outputs": [
    {
     "name": "stdout",
     "output_type": "stream",
     "text": [
      "Final Train SSE after taking best 5 features:  1239757189288.8093\n",
      "Final Test SSE after taking best 5 features:  4069635422271.789\n"
     ]
    }
   ],
   "source": [
    "n, er = first_feature\n",
    "x = df.iloc[:, n].values\n",
    "x = x.reshape([x.shape[0], 1])\n",
    "\n",
    "SSE = er\n",
    "\n",
    "for k in out:\n",
    "    x_new = df.iloc[:, k].values\n",
    "    x_new = x_new.reshape([x_new.shape[0], 1])\n",
    "    x = np.append(x, x_new, 1)\n",
    "    \n",
    "    tr, te = Linear_reg(x, DataY, 0.8)\n",
    "\n",
    "print(\"Final Train SSE after taking best 5 features: \", tr)\n",
    "print(\"Final Test SSE after taking best 5 features: \", te)"
   ]
  },
  {
   "cell_type": "markdown",
   "metadata": {},
   "source": [
    "### If had to find the optimal number of features for best results with Linear Regression"
   ]
  },
  {
   "cell_type": "code",
   "execution_count": 26,
   "metadata": {},
   "outputs": [
    {
     "name": "stdout",
     "output_type": "stream",
     "text": [
      "Best results with Linear Regression can be achieved with  21 features\n",
      "Lowest Training SSE achieveable is  1236256175995.8584\n",
      "Lowest Testing SSE achieveable is  4075838840973.5586\n"
     ]
    }
   ],
   "source": [
    "n, er = first_feature\n",
    "x = df.iloc[:, n].values\n",
    "x = x.reshape([x.shape[0], 1])\n",
    "\n",
    "SSE = er\n",
    "\n",
    "count = 1\n",
    "\n",
    "for k in dict(list(Sorted_SSE.items())[1:]):\n",
    "    x_new = df.iloc[:, k].values\n",
    "    x_new = x_new.reshape([x_new.shape[0], 1])\n",
    "    x = np.append(x, x_new, 1)\n",
    "    \n",
    "    tr, te = Linear_reg(x, DataY, 0.8)\n",
    "\n",
    "    diff = SSE - tr\n",
    "    SSE = tr\n",
    "    \n",
    "    count+= 1\n",
    "    \n",
    "    if abs(diff) < 20000:\n",
    "        break\n",
    "        \n",
    "print(\"Best results with Linear Regression can be achieved with \", count, \"features\")\n",
    "print(\"Lowest Training SSE achieveable is \", SSE)\n",
    "print(\"Lowest Testing SSE achieveable is \", te)"
   ]
  },
  {
   "cell_type": "markdown",
   "metadata": {},
   "source": [
    "Since the error is too large, a large Threshhold has been taken.!"
   ]
  },
  {
   "cell_type": "markdown",
   "metadata": {},
   "source": [
    "### Using Sklearn method!"
   ]
  },
  {
   "cell_type": "code",
   "execution_count": 27,
   "metadata": {},
   "outputs": [],
   "source": [
    "from sklearn.feature_selection import RFE\n",
    "from sklearn.linear_model import LinearRegression"
   ]
  },
  {
   "cell_type": "code",
   "execution_count": 28,
   "metadata": {},
   "outputs": [
    {
     "name": "stderr",
     "output_type": "stream",
     "text": [
      "/Users/abhigyaurja/opt/anaconda3/lib/python3.8/site-packages/sklearn/utils/validation.py:67: FutureWarning: Pass n_features_to_select=5 as keyword args. From version 0.25 passing these as positional arguments will result in an error\n",
      "  warnings.warn(\"Pass {} as keyword args. From version 0.25 \"\n"
     ]
    }
   ],
   "source": [
    "model=LinearRegression(fit_intercept=True,normalize=True,n_jobs=-1)\n",
    "\n",
    "# create the RFE model and selecting 5 attributes\n",
    "\n",
    "rfe = RFE(model, 5) "
   ]
  },
  {
   "cell_type": "code",
   "execution_count": 29,
   "metadata": {},
   "outputs": [
    {
     "data": {
      "text/plain": [
       "RFE(estimator=LinearRegression(n_jobs=-1, normalize=True),\n",
       "    n_features_to_select=5)"
      ]
     },
     "execution_count": 29,
     "metadata": {},
     "output_type": "execute_result"
    }
   ],
   "source": [
    "rfe.fit(DataX, DataY)"
   ]
  },
  {
   "cell_type": "code",
   "execution_count": 30,
   "metadata": {},
   "outputs": [],
   "source": [
    "new_x = df.iloc[:,:N-1]  ##Same as DataX but in dataframe form\n",
    "New_X = new_x[new_x.columns[rfe.support_]].values ##Finding the columns which are best"
   ]
  },
  {
   "cell_type": "code",
   "execution_count": 31,
   "metadata": {},
   "outputs": [],
   "source": [
    "#Splitting in the same way as our own dataset was split for checking.\n",
    "x_train, x_test, y_train, y_test = train_test_split(New_X, DataY, test_size = 0.8,\\\n",
    "                                                    random_state=1, shuffle = False)"
   ]
  },
  {
   "cell_type": "code",
   "execution_count": 32,
   "metadata": {},
   "outputs": [],
   "source": [
    "reg = LinearRegression().fit(x_train, y_train)"
   ]
  },
  {
   "cell_type": "code",
   "execution_count": 33,
   "metadata": {},
   "outputs": [],
   "source": [
    "y_pred1 = reg.predict(x_test)\n",
    "y_pred2 = reg.predict(x_train)"
   ]
  },
  {
   "cell_type": "code",
   "execution_count": 34,
   "metadata": {},
   "outputs": [],
   "source": [
    "#calc_error finds the sum of squared errors.\n",
    "e1 = calc_error(y_pred1, y_test)\n",
    "e2 = calc_error(y_pred2, y_train)"
   ]
  },
  {
   "cell_type": "code",
   "execution_count": 35,
   "metadata": {},
   "outputs": [
    {
     "name": "stdout",
     "output_type": "stream",
     "text": [
      "Training SSE with RFE method:  1242875223960.4448\n",
      "Testing SSE with RFE method:  4092634855356.1914\n"
     ]
    }
   ],
   "source": [
    "print(\"Training SSE with RFE method: \", e2)\n",
    "print(\"Testing SSE with RFE method: \", e1)"
   ]
  }
 ],
 "metadata": {
  "kernelspec": {
   "display_name": "Python 3",
   "language": "python",
   "name": "python3"
  },
  "language_info": {
   "codemirror_mode": {
    "name": "ipython",
    "version": 3
   },
   "file_extension": ".py",
   "mimetype": "text/x-python",
   "name": "python",
   "nbconvert_exporter": "python",
   "pygments_lexer": "ipython3",
   "version": "3.8.5"
  }
 },
 "nbformat": 4,
 "nbformat_minor": 2
}
