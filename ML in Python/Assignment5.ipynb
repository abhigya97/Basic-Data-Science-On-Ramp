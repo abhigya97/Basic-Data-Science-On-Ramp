{
 "cells": [
  {
   "cell_type": "markdown",
   "metadata": {},
   "source": [
    "# In this assignment, you are going to do machine learning on a text. You will use ScikitLearn multinomial Naive Bayes classifier to build a classification model, which will classify a review either as positive or negative. A review is positive if a customer has given a good review and negative when a customer has given a bad review.\n",
    "\n",
    "## To build and train the model there are two training viz. positive review file and negative review file. All the reviews in the positive review file are positive and are not labeled same is the case with negative review file.\n",
    "\n",
    "## To test your model there is a testSet.txt file. In this file first 2989 reviews are positive and from 2990 to 4321 are negative. Since these data is not labeled you have to preprocess them to attach label to the reviews\n",
    "\n",
    "# Also, you should apply data preprocessing techniques which you have learned from the study notes. At the end report the accuracy of your classifier. "
   ]
  },
  {
   "cell_type": "code",
   "execution_count": 1,
   "metadata": {},
   "outputs": [],
   "source": [
    "import os\n",
    "\n",
    "import re\n",
    "\n",
    "from sklearn.naive_bayes import MultinomialNB\n",
    "\n",
    "from sklearn.feature_extraction.text import CountVectorizer\n",
    "\n",
    "from sklearn.feature_extraction.text import TfidfTransformer\n",
    "\n",
    "import numpy as np\n",
    "\n",
    "import random"
   ]
  },
  {
   "cell_type": "code",
   "execution_count": 2,
   "metadata": {},
   "outputs": [],
   "source": [
    "Neg = ('TrainingDataNegative.txt')\n",
    "Pos = ('TrainingDataPositive.txt')\n",
    "Tes = ('testSet.txt')"
   ]
  },
  {
   "cell_type": "code",
   "execution_count": 3,
   "metadata": {},
   "outputs": [],
   "source": [
    "Pr_Tes = ('Processed_Test.csv') \n",
    "Pr_Tr = ('Processed_Training.csv')"
   ]
  },
  {
   "cell_type": "markdown",
   "metadata": {},
   "source": [
    "## Preprocessing\n",
    "### Following function has been taken from study notes and modified to the problem"
   ]
  },
  {
   "cell_type": "markdown",
   "metadata": {},
   "source": [
    "### For Training Data"
   ]
  },
  {
   "cell_type": "code",
   "execution_count": 4,
   "metadata": {},
   "outputs": [],
   "source": [
    "file1 = open(Neg)\n",
    "\n",
    "file2 = open(Pos)\n",
    "\n",
    "writeFile1 = open(Pr_Tr,\"w\")\n",
    "\n",
    "#list of bad characters to be removed from the data.\n",
    "badChar = \"[,!.?#@=$%^&*\\n]\" \n",
    "    \n",
    "for line in file1:\n",
    "\n",
    "    line = line.lower().replace(\"\\t\",\" \")\n",
    "    #First convert each word to lower case, then replace all tab space with single back space.\n",
    "\n",
    "    line = re.sub(badChar,\"\",line) \n",
    "    #Using regular expression remove all bad character from the text.\n",
    "\n",
    "    arr = line.split(\" \")\n",
    "    #Split the line using space and put all the words into a list.\n",
    "        \n",
    "    label = 'negative'\n",
    "\n",
    "    words = \" \".join(word for word in arr) \n",
    "    #All of the words in the list are joined back to form the original sentence.\n",
    "\n",
    "    toWrite = label + \",\" + words \n",
    "    #Line to be written: Class label, Review\n",
    "\n",
    "    writeFile1.write(toWrite)\n",
    "\n",
    "    writeFile1.write(\"\\n\")\n",
    "    #After writing every line put new line character.\n",
    "    \n",
    "for line in file2:\n",
    "\n",
    "    line = line.lower().replace(\"\\t\",\" \")\n",
    "   \n",
    "    line = re.sub(badChar,\"\",line) \n",
    "\n",
    "    arr = line.split(\" \")\n",
    "        \n",
    "    label = 'positive'\n",
    "\n",
    "    words = \" \".join(word for word in arr) \n",
    "\n",
    "    toWrite = label + \",\" + words \n",
    "\n",
    "    writeFile1.write(toWrite)\n",
    "\n",
    "    writeFile1.write(\"\\n\")\n",
    "\n",
    "    \n",
    "file1.close()\n",
    "file2.close()\n",
    "writeFile1.close()"
   ]
  },
  {
   "cell_type": "markdown",
   "metadata": {},
   "source": [
    "### For Testing Data"
   ]
  },
  {
   "cell_type": "code",
   "execution_count": 5,
   "metadata": {},
   "outputs": [],
   "source": [
    "file3 = open(Tes)\n",
    "\n",
    "writeFile2 = open(Pr_Tes,\"w\")\n",
    "\n",
    "for num, line in enumerate(file3, 1):\n",
    "\n",
    "    line = line.lower().replace(\"\\t\",\" \")\n",
    "\n",
    "    line = re.sub(badChar,\"\",line) \n",
    "\n",
    "    arr = line.split(\" \")\n",
    "        \n",
    "    if num < 2990:\n",
    "        label = 'positive'\n",
    "    else:\n",
    "        label = 'negative'\n",
    "\n",
    "    words = \" \".join(word for word in arr) \n",
    "    \n",
    "    toWrite = label + \",\" + words \n",
    "\n",
    "    writeFile2.write(toWrite)\n",
    "\n",
    "    writeFile2.write(\"\\n\")\n",
    "        \n",
    "        \n",
    "file3.close()\n",
    "writeFile2.close()"
   ]
  },
  {
   "cell_type": "markdown",
   "metadata": {},
   "source": [
    "## Defining functions for : Getting Data and Label, and Calculating Baseline\n",
    "### Following codes have been taken from study notes"
   ]
  },
  {
   "cell_type": "code",
   "execution_count": 6,
   "metadata": {},
   "outputs": [],
   "source": [
    "def getDataAndLabel(processedFilePath):\n",
    "    #Reading the processed file.\n",
    "    file = open(processedFilePath)\n",
    "\n",
    "    label = []\n",
    "\n",
    "    data = []\n",
    "\n",
    "    for line in file:\n",
    "\n",
    "        arr = line.replace(\"\\n\",\"\").split(\",\") \n",
    "        #Split with comma.\n",
    "\n",
    "        label.append(arr[0])\n",
    "        #First element is class label.\n",
    "\n",
    "        data.append(arr[1].replace(\"\\n\",\"\"))\n",
    "        #Second element is Review.\n",
    "\n",
    "    return data,label"
   ]
  },
  {
   "cell_type": "code",
   "execution_count": 7,
   "metadata": {},
   "outputs": [],
   "source": [
    "# calculate baseline : it is percentage of records belonging to majority class\n",
    "def calBaseLine(data): \n",
    "\n",
    "    classValues = np.unique(data) \n",
    "    #from target values find out unique classes.\n",
    "\n",
    "    highest = 0\n",
    "\n",
    "    baseClass = \"\"\n",
    "    \n",
    "    #iterate over these classes to find number of records belonging to that class.\n",
    "    for label in classValues: \n",
    "        \n",
    "        #create a list containing only label either positive or negative.\n",
    "        count = [i for i in data if i == label ] \n",
    "\n",
    "        count = len(count) \n",
    "        #find how many of them are positive or negative.\n",
    "\n",
    "        if count > highest:\n",
    "\n",
    "            highest = count\n",
    "\n",
    "            baseClass = label\n",
    "\n",
    "    print(\"Base Class :\",baseClass)\n",
    "\n",
    "    print(\"Base Line :\",(float(highest)/len(data))*100)"
   ]
  },
  {
   "cell_type": "markdown",
   "metadata": {},
   "source": [
    "## Working with the data"
   ]
  },
  {
   "cell_type": "code",
   "execution_count": 8,
   "metadata": {},
   "outputs": [],
   "source": [
    "Tr_data, Tr_label = getDataAndLabel(Pr_Tr)\n",
    "Tes_data, Tes_label = getDataAndLabel(Pr_Tes)"
   ]
  },
  {
   "cell_type": "markdown",
   "metadata": {},
   "source": [
    "### Code from Study Notes"
   ]
  },
  {
   "cell_type": "code",
   "execution_count": 9,
   "metadata": {},
   "outputs": [],
   "source": [
    "count_vect = CountVectorizer() \n",
    "#instance of count vectorize.\n",
    "\n",
    "X_train_counts = count_vect.fit_transform(Tr_data) \n",
    "#create a numerical feature vector.\n",
    "\n",
    "tfidf_transformer = TfidfTransformer() \n",
    "#calculate term frequency.\n",
    "\n",
    "X_train_tfidf = tfidf_transformer.fit_transform(X_train_counts) \n",
    "#calculate Term Frequency times Inverse Document Frequency.\n",
    "#It is stored in a compress row format."
   ]
  },
  {
   "cell_type": "code",
   "execution_count": 10,
   "metadata": {},
   "outputs": [],
   "source": [
    "#Shuffling the data\n",
    "random.shuffle(X_train_tfidf.toarray(), random.random)"
   ]
  },
  {
   "cell_type": "code",
   "execution_count": 11,
   "metadata": {},
   "outputs": [],
   "source": [
    "model = MultinomialNB(fit_prior = True) \n",
    "#create an instance of multinomial Naive Bayes."
   ]
  },
  {
   "cell_type": "markdown",
   "metadata": {},
   "source": [
    "### Training and Testing!"
   ]
  },
  {
   "cell_type": "code",
   "execution_count": 12,
   "metadata": {},
   "outputs": [
    {
     "data": {
      "text/plain": [
       "MultinomialNB()"
      ]
     },
     "execution_count": 12,
     "metadata": {},
     "output_type": "execute_result"
    }
   ],
   "source": [
    "model.fit(X_train_tfidf, Tr_label)"
   ]
  },
  {
   "cell_type": "code",
   "execution_count": 13,
   "metadata": {},
   "outputs": [],
   "source": [
    "#Testing!\n",
    "X_new_counts = count_vect.transform(Tes_data)\n",
    "\n",
    "X_new_tfidf = tfidf_transformer.transform(X_new_counts)\n",
    "#create Term Frequency times Inverse Document Frequency for test data."
   ]
  },
  {
   "cell_type": "code",
   "execution_count": 14,
   "metadata": {},
   "outputs": [],
   "source": [
    "#Shuffling the data\n",
    "random.shuffle(X_new_tfidf.toarray(), random.random)"
   ]
  },
  {
   "cell_type": "code",
   "execution_count": 15,
   "metadata": {},
   "outputs": [],
   "source": [
    "#Predicting!\n",
    "predLabel = model.predict(X_new_tfidf)"
   ]
  },
  {
   "cell_type": "code",
   "execution_count": 16,
   "metadata": {},
   "outputs": [
    {
     "name": "stdout",
     "output_type": "stream",
     "text": [
      "Accuracy of Multinomial Naive Bayes Classifier is:  73.52464707243693\n"
     ]
    }
   ],
   "source": [
    "print(\"Accuracy of Multinomial Naive Bayes Classifier is: \", np.mean(predLabel == Tes_label) * 100)"
   ]
  },
  {
   "cell_type": "code",
   "execution_count": 17,
   "metadata": {},
   "outputs": [
    {
     "name": "stdout",
     "output_type": "stream",
     "text": [
      "Base Class : positive\n",
      "Base Line : 69.17380236056468\n"
     ]
    }
   ],
   "source": [
    "calBaseLine(Tes_label)"
   ]
  },
  {
   "cell_type": "markdown",
   "metadata": {},
   "source": [
    "## Shuffling had no effect on accuracy!\n",
    "### Since, base class has 69% base line, the accuracy performance is not that good. "
   ]
  }
 ],
 "metadata": {
  "kernelspec": {
   "display_name": "Python 3",
   "language": "python",
   "name": "python3"
  },
  "language_info": {
   "codemirror_mode": {
    "name": "ipython",
    "version": 3
   },
   "file_extension": ".py",
   "mimetype": "text/x-python",
   "name": "python",
   "nbconvert_exporter": "python",
   "pygments_lexer": "ipython3",
   "version": "3.8.5"
  }
 },
 "nbformat": 4,
 "nbformat_minor": 2
}
