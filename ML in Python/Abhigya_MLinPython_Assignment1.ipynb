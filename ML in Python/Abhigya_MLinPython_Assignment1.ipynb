{
 "cells": [
  {
   "cell_type": "markdown",
   "metadata": {},
   "source": [
    "# Given a list like myList=[1,2,3,4], your task is to find sum of each number with another number, i.e., 1+2,1+3,1+4,2+3,2+4,3+4 . Write two codes, one using list comprehension and other using for loop."
   ]
  },
  {
   "cell_type": "code",
   "execution_count": 1,
   "metadata": {},
   "outputs": [],
   "source": [
    "a = [1, 5, 4, 7]\n",
    "#Defining a list a"
   ]
  },
  {
   "cell_type": "code",
   "execution_count": 2,
   "metadata": {},
   "outputs": [],
   "source": [
    "#First Method\n",
    "b = []\n",
    "\n",
    "for i in range(len(a)):\n",
    "    for j in range(i+1, len(a)):\n",
    "        b.append(a[i]+a[j])\n",
    "\n",
    "print(\"Result using for loop: \\n\", b)"
   ]
  },
  {
   "cell_type": "code",
   "execution_count": 3,
   "metadata": {},
   "outputs": [],
   "source": [
    "#Second Method\n",
    "c = [a[i]+a[j] for i in range(len(a)) for j in range(i+1, len(a))]\n",
    "\n",
    "print(\"Result using list comprehension: \\n\", c)"
   ]
  },
  {
   "cell_type": "markdown",
   "metadata": {},
   "source": [
    "# Given a list write a code to detect if there is a duplicate element present in the list (of integers) or not. Print yes or no. Write two codes, one using '==' operator and other using exclusive or operator '^'."
   ]
  },
  {
   "cell_type": "code",
   "execution_count": 4,
   "metadata": {},
   "outputs": [],
   "source": [
    "#https://thispointer.com/python-3-ways-to-check-if-there-are-duplicates-in-a-list/\n",
    "def is_duplicate1(a):\n",
    "    #Converting list a into set and checking the number of elements\n",
    "    if len(a) == len(set(a)):\n",
    "        print('no')\n",
    "    else:\n",
    "        print('yes')"
   ]
  },
  {
   "cell_type": "code",
   "execution_count": 5,
   "metadata": {},
   "outputs": [],
   "source": [
    "def is_duplicate2(a):\n",
    "    #Exclusive or (XOR) is true when both elements are different.\n",
    "    if len(a) ^ len(set(a)):\n",
    "        print('yes')\n",
    "    else:\n",
    "        print('no')"
   ]
  },
  {
   "cell_type": "code",
   "execution_count": 6,
   "metadata": {},
   "outputs": [],
   "source": [
    "dup = [2, 3, 5, 2, 5]"
   ]
  },
  {
   "cell_type": "code",
   "execution_count": 7,
   "metadata": {},
   "outputs": [
    {
     "name": "stdout",
     "output_type": "stream",
     "text": [
      "USING == OPERATOR\n",
      "\n",
      "\n",
      "For list a\n",
      "no\n",
      "For list dup\n",
      "yes\n"
     ]
    }
   ],
   "source": [
    "#Checking for list a and b. List a has all unique values whereas list b has duplicates.\n",
    "print(\"USING == OPERATOR\\n\\n\")\n",
    "print('For list a')\n",
    "is_duplicate1(a)\n",
    "\n",
    "print('For list dup')\n",
    "is_duplicate1(dup)"
   ]
  },
  {
   "cell_type": "code",
   "execution_count": 8,
   "metadata": {},
   "outputs": [
    {
     "name": "stdout",
     "output_type": "stream",
     "text": [
      "USING ^ OPERATOR\n",
      "\n",
      "\n",
      "For list a\n",
      "no\n",
      "For list dup\n",
      "yes\n"
     ]
    }
   ],
   "source": [
    "#Checking for list a and b. List a has all unique values whereas list b has duplicates.\n",
    "print(\"USING ^ OPERATOR\\n\\n\")\n",
    "print('For list a')\n",
    "is_duplicate2(a)\n",
    "\n",
    "print('For list dup')\n",
    "is_duplicate2(dup)"
   ]
  },
  {
   "cell_type": "markdown",
   "metadata": {},
   "source": [
    "# Given below is a 2D matrix, create a list of all the odd numbers present in the matrix. Also sort the list in descending order.\n",
    "myMatrix = [[1, 2, 3, 4],\n",
    "            [5, 6, 7],\n",
    "            [8, 9, 10]]"
   ]
  },
  {
   "cell_type": "code",
   "execution_count": 9,
   "metadata": {},
   "outputs": [
    {
     "name": "stdout",
     "output_type": "stream",
     "text": [
      "[[1, 2, 3, 4], [5, 6, 7], [8, 9, 10]]\n"
     ]
    }
   ],
   "source": [
    "myMatrix1 = [[1, 2, 3, 4],\n",
    "            [5, 6, 7],\n",
    "            [8, 9, 10]]\n",
    "\n",
    "print(myMatrix1)"
   ]
  },
  {
   "cell_type": "code",
   "execution_count": 10,
   "metadata": {},
   "outputs": [
    {
     "name": "stdout",
     "output_type": "stream",
     "text": [
      "List of odd numbers from matrix:  [1, 3, 5, 7, 9]\n",
      "Sorted list of odd numbers from matrix:  [9, 7, 5, 3, 1]\n"
     ]
    }
   ],
   "source": [
    "Odd_numbers = []\n",
    "\n",
    "for i in myMatrix1:\n",
    "    for j in i:\n",
    "        if j % 2 != 0:\n",
    "            Odd_numbers.append(j)\n",
    "\n",
    "print(\"List of odd numbers from matrix: \", Odd_numbers)\n",
    "        \n",
    "#Sorting the list\n",
    "sorted_odd_no = sorted(Odd_numbers, reverse = True)\n",
    "print(\"Sorted list of odd numbers from matrix: \", sorted_odd_no)"
   ]
  },
  {
   "cell_type": "markdown",
   "metadata": {},
   "source": [
    "# Given below is a 2D matrix, create a list of squares of all the even numbers present in the matrix.\n",
    "myMatrix = [[1, 2, 'aa',3, 4],\n",
    "            ['dd',5, 6, 7],\n",
    "            [8, 9, 10,'cc']]"
   ]
  },
  {
   "cell_type": "code",
   "execution_count": 11,
   "metadata": {},
   "outputs": [
    {
     "name": "stdout",
     "output_type": "stream",
     "text": [
      "[[1, 2, 'aa', 3, 4], ['dd', 5, 6, 7], [8, 9, 10, 'cc']]\n"
     ]
    }
   ],
   "source": [
    "myMatrix2 = [[1, 2, 'aa',3, 4],\n",
    "            ['dd',5, 6, 7],\n",
    "            [8, 9, 10,'cc']]\n",
    "\n",
    "print(myMatrix2)"
   ]
  },
  {
   "cell_type": "code",
   "execution_count": 12,
   "metadata": {},
   "outputs": [
    {
     "name": "stdout",
     "output_type": "stream",
     "text": [
      "List of even squared numbers:  [4, 16, 36, 64, 100]\n"
     ]
    }
   ],
   "source": [
    "even_squared = []\n",
    "\n",
    "for i in myMatrix2:\n",
    "    for j in i:\n",
    "        #Since there are multiple data types in the list, checking for integer data type\n",
    "        if isinstance(j, int):\n",
    "            if j % 2 == 0:\n",
    "                even_squared.append(j**2)\n",
    "\n",
    "print(\"List of even squared numbers: \", even_squared)"
   ]
  },
  {
   "cell_type": "markdown",
   "metadata": {},
   "source": [
    "# Given below is a 2D matrix, create a list of squares of all the prime numbers present in the matrix. (Hint: use 6k+1 or 6k-1 formula)\n",
    "myMatrix = [[21, 22, 23, 4, 16, 17, 18, 19],\n",
    "            [5, 6, 7, 14, 15, 20, 1, 2, 3],\n",
    "            [8, 9, 10, 11, 12, 13]]"
   ]
  },
  {
   "cell_type": "code",
   "execution_count": 13,
   "metadata": {},
   "outputs": [
    {
     "name": "stdout",
     "output_type": "stream",
     "text": [
      "[[21, 22, 23, 4, 16, 17, 18, 19], [5, 6, 7, 14, 15, 20, 1, 2, 3], [8, 9, 10, 11, 12, 13]]\n"
     ]
    }
   ],
   "source": [
    "myMatrix3 = [[21, 22, 23, 4, 16, 17, 18, 19],\n",
    "            [5, 6, 7, 14, 15, 20, 1, 2, 3],\n",
    "            [8, 9, 10, 11, 12, 13]]\n",
    "\n",
    "print(myMatrix3)"
   ]
  },
  {
   "cell_type": "code",
   "execution_count": 14,
   "metadata": {},
   "outputs": [],
   "source": [
    "#https://www.codecademy.com/forum_questions/54865f0f95e378f3fd000290\n",
    "def checkPrime(n) : \n",
    "    \n",
    "    #Checking the corner cases and middle cases(from 0 to 3 and their mutliples.)\n",
    "    if n == 1 or n == 2 or n == 3:\n",
    "        return True\n",
    "    \n",
    "    if n == 0 or n % 2 == 0 or n % 3 == 0:\n",
    "        return False\n",
    "\n",
    "    #Using 6k + 1\n",
    "    i = 5\n",
    "    #Increasing i by value 6 at every iteration.\n",
    "    \n",
    "    while(i * i <= n):\n",
    "        \n",
    "        if (n % i == 0 or n % (i + 2) == 0) : \n",
    "            return False\n",
    "        \n",
    "        i = i + 6\n",
    "  \n",
    "    return True"
   ]
  },
  {
   "cell_type": "code",
   "execution_count": 15,
   "metadata": {},
   "outputs": [
    {
     "name": "stdout",
     "output_type": "stream",
     "text": [
      "List of squared prime numbers:  [529, 289, 361, 25, 49, 1, 4, 9, 121, 169]\n"
     ]
    }
   ],
   "source": [
    "primes = []\n",
    "\n",
    "for i in myMatrix3:\n",
    "    for j in i:\n",
    "        if checkPrime(j):\n",
    "            primes.append(j**2)\n",
    "\n",
    "print(\"List of squared prime numbers: \", primes)"
   ]
  },
  {
   "cell_type": "markdown",
   "metadata": {},
   "source": [
    "# Make a dictionary of all those words, from the given paragraph, which are having 4 or more characters in it . Key of the dictionary should be word and value should be the number of times that word has appeared in the paragraph.  eg. {\"feminist\":3,\"part\":2,\"campaign\":1}\n",
    "mySentence=\"It's the Spice Girls but not as you know them. Twenty years after it was first released, this famous girl power anthem has been given a 21st century feminist makeover. The new video is part of Project Everyone's campaign to improve the lives of women and girls everywhere, calling for an end to violence against girls, quality education for all and equal pay for equal work.\""
   ]
  },
  {
   "cell_type": "code",
   "execution_count": 16,
   "metadata": {},
   "outputs": [],
   "source": [
    "mySentence=\"It's the Spice Girls but not as you know them. Twenty years after it was first released, this famous girl power anthem has been given a 21st century feminist makeover. The new video is part of Project Everyone's campaign to improve the lives of women and girls everywhere, calling for an end to violence against girls, quality education for all and equal pay for equal work.\""
   ]
  },
  {
   "cell_type": "code",
   "execution_count": 17,
   "metadata": {},
   "outputs": [
    {
     "name": "stdout",
     "output_type": "stream",
     "text": [
      "It's the Spice Girls but not as you know them. Twenty years after it was first released, this famous girl power anthem has been given a 21st century feminist makeover. The new video is part of Project Everyone's campaign to improve the lives of women and girls everywhere, calling for an end to violence against girls, quality education for all and equal pay for equal work.\n"
     ]
    }
   ],
   "source": [
    "print(mySentence)"
   ]
  },
  {
   "cell_type": "code",
   "execution_count": 18,
   "metadata": {},
   "outputs": [
    {
     "name": "stdout",
     "output_type": "stream",
     "text": [
      "[\"it's\", 'spice', 'girls', 'know', 'them.', 'twenty', 'years', 'after', 'first', 'released,', 'this', 'famous', 'girl', 'power', 'anthem', 'been', 'given', '21st', 'century', 'feminist', 'makeover.', 'video', 'part', 'project', \"everyone's\", 'campaign', 'improve', 'lives', 'women', 'girls', 'everywhere,', 'calling', 'violence', 'against', 'girls,', 'quality', 'education', 'equal', 'equal', 'work.']\n"
     ]
    }
   ],
   "source": [
    "#Getting all the words with 4 or more than 4 characters in a list #converting to lower case\n",
    "List_of_words = [word.lower() for word in mySentence.split() if len(word) > 3]\n",
    "print(List_of_words)"
   ]
  },
  {
   "cell_type": "code",
   "execution_count": 19,
   "metadata": {},
   "outputs": [
    {
     "name": "stdout",
     "output_type": "stream",
     "text": [
      "{\"it's\": 1, 'spice': 1, 'girls': 2, 'know': 1, 'them.': 1, 'twenty': 1, 'years': 1, 'after': 1, 'first': 1, 'released,': 1, 'this': 1, 'famous': 1, 'girl': 1, 'power': 1, 'anthem': 1, 'been': 1, 'given': 1, '21st': 1, 'century': 1, 'feminist': 1, 'makeover.': 1, 'video': 1, 'part': 1, 'project': 1, \"everyone's\": 1, 'campaign': 1, 'improve': 1, 'lives': 1, 'women': 1, 'everywhere,': 1, 'calling': 1, 'violence': 1, 'against': 1, 'girls,': 1, 'quality': 1, 'education': 1, 'equal': 2, 'work.': 1}\n"
     ]
    }
   ],
   "source": [
    "#Counting the occurunces of these words and making a dictionary!\n",
    "counts = {}\n",
    "\n",
    "for word in List_of_words:\n",
    "        if word not in counts :\n",
    "            counts[word] = 0\n",
    "        counts[word] += 1\n",
    "    \n",
    "#sorting\n",
    "#counts = sorted(counts.items())\n",
    "print(counts)"
   ]
  },
  {
   "cell_type": "markdown",
   "metadata": {},
   "source": [
    "# Given a list, multiply all the elements of the list by 2 without using any arithmetic operator. Hint: use bitwise operator"
   ]
  },
  {
   "cell_type": "code",
   "execution_count": 20,
   "metadata": {},
   "outputs": [
    {
     "name": "stdout",
     "output_type": "stream",
     "text": [
      "Original list: \n",
      " [4, 8, 3, 5, 7, 9]\n",
      "\n",
      "List after 2 multiplication: \n",
      " [8, 16, 6, 10, 14, 18]\n"
     ]
    }
   ],
   "source": [
    "#A bitwise left shift by 1 is equivalent to multiplying by 2 since binary has a base 2. \n",
    "#When we shift binary numbers by 1, we multiply by 2. When we shift base 10 numbers by 1, we multiply by 10.\n",
    "#bitwise operations convert the number into binary and apply the operation on binary form hence, 2 multiplication.\n",
    "\n",
    "list1 = [4 , 8, 3, 5, 7, 9]\n",
    "print(\"Original list: \\n\", list1)\n",
    "\n",
    "list2 = [a << 1 for a in list1]\n",
    "print(\"\\nList after 2 multiplication: \\n\", list2)"
   ]
  },
  {
   "cell_type": "markdown",
   "metadata": {},
   "source": [
    "# Given below are two 2D matrix, add them element wise to form a third 2D matrix and print the resultant matrix.\n",
    "myMatrix1 = [[1, 2, 3, 4],\n",
    "            [5, 6, 7,6],\n",
    "            [8, 9, 10,4]]\n",
    "\n",
    "myMatrix2 = [[3, 1, 1, 4],\n",
    "            [7, 7, 7,7],\n",
    "            [8, 9, 10,11]]"
   ]
  },
  {
   "cell_type": "code",
   "execution_count": 21,
   "metadata": {},
   "outputs": [
    {
     "name": "stdout",
     "output_type": "stream",
     "text": [
      "[[1, 2, 3, 4], [5, 6, 7, 6], [8, 9, 10, 4]]\n",
      "[[3, 1, 1, 4], [7, 7, 7, 7], [8, 9, 10, 11]]\n"
     ]
    }
   ],
   "source": [
    "myMatrix4 = [[1, 2, 3, 4],\n",
    "            [5, 6, 7,6],\n",
    "            [8, 9, 10,4]]\n",
    "\n",
    "myMatrix5 = [[3, 1, 1, 4],\n",
    "            [7, 7, 7,7],\n",
    "            [8, 9, 10,11]]\n",
    "\n",
    "print(myMatrix4)\n",
    "print(myMatrix5)"
   ]
  },
  {
   "cell_type": "code",
   "execution_count": 22,
   "metadata": {},
   "outputs": [],
   "source": [
    "import numpy as np\n",
    "#Converting them into numpy arrays\n",
    "M1 = np.asarray(myMatrix4)\n",
    "M2 = np.asarray(myMatrix5)"
   ]
  },
  {
   "cell_type": "code",
   "execution_count": 23,
   "metadata": {},
   "outputs": [
    {
     "name": "stdout",
     "output_type": "stream",
     "text": [
      "[[ 4  3  4  8]\n",
      " [12 13 14 13]\n",
      " [16 18 20 15]]\n"
     ]
    }
   ],
   "source": [
    "M3 = M1 + M2\n",
    "#By default numpy arrays perform element wise operations\n",
    "print(M3)"
   ]
  },
  {
   "cell_type": "code",
   "execution_count": 24,
   "metadata": {},
   "outputs": [
    {
     "name": "stdout",
     "output_type": "stream",
     "text": [
      "[[4, 3, 4, 8], [12, 13, 14, 13], [16, 18, 20, 15]]\n"
     ]
    }
   ],
   "source": [
    "#Can easily convert this into a list:\n",
    "MyMatrix6 = M3.tolist()\n",
    "print(MyMatrix6)"
   ]
  }
 ],
 "metadata": {
  "kernelspec": {
   "display_name": "Python 3",
   "language": "python",
   "name": "python3"
  },
  "language_info": {
   "codemirror_mode": {
    "name": "ipython",
    "version": 3
   },
   "file_extension": ".py",
   "mimetype": "text/x-python",
   "name": "python",
   "nbconvert_exporter": "python",
   "pygments_lexer": "ipython3",
   "version": "3.8.5"
  }
 },
 "nbformat": 4,
 "nbformat_minor": 2
}
